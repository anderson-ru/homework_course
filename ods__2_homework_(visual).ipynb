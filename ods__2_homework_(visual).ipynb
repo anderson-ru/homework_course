{
  "nbformat": 4,
  "nbformat_minor": 0,
  "metadata": {
    "colab": {
      "name": "ods_#2_homework_(visual).ipynb",
      "provenance": [],
      "collapsed_sections": [],
      "authorship_tag": "ABX9TyODPJx4xlDOWa4kRGqkiFFz",
      "include_colab_link": true
    },
    "kernelspec": {
      "name": "python3",
      "display_name": "Python 3"
    },
    "language_info": {
      "name": "python"
    }
  },
  "cells": [
    {
      "cell_type": "markdown",
      "metadata": {
        "id": "view-in-github",
        "colab_type": "text"
      },
      "source": [
        "<a href=\"https://colab.research.google.com/github/anderson-ru/homework_course/blob/the_main/ods__2_homework_(visual).ipynb\" target=\"_parent\"><img src=\"https://colab.research.google.com/assets/colab-badge.svg\" alt=\"Open In Colab\"/></a>"
      ]
    },
    {
      "cell_type": "code",
      "execution_count": null,
      "metadata": {
        "id": "Zf-owT3uxIGl"
      },
      "outputs": [],
      "source": [
        "import pandas as pd\n",
        "\n",
        "%matplotlib inline\n",
        "import matplotlib.pyplot as plt\n",
        "import seaborn as sns"
      ]
    },
    {
      "cell_type": "markdown",
      "source": [
        "# **Data download**"
      ],
      "metadata": {
        "id": "_VAG-gUlyNYq"
      }
    },
    {
      "cell_type": "markdown",
      "source": [
        "https://drive.google.com/file/d/1PwVlFTuHit5exEVkNOJ8BejwCgs0Tgvz/view?usp=sharing\n",
        "https://drive.google.com/file/d/1qmsSz4Ac7Jtuz2e-sfSqxMbybnkoYlF8/view?usp=sharing"
      ],
      "metadata": {
        "id": "8QSwrPopyXzc"
      }
    },
    {
      "cell_type": "code",
      "source": [
        "! gdown --id 1PwVlFTuHit5exEVkNOJ8BejwCgs0Tgvz\n",
        "! gdown --id 1qmsSz4Ac7Jtuz2e-sfSqxMbybnkoYlF8"
      ],
      "metadata": {
        "colab": {
          "base_uri": "https://localhost:8080/"
        },
        "id": "veIDiBH_yWzI",
        "outputId": "a0748177-43f4-4b76-e395-ece835245c10"
      },
      "execution_count": null,
      "outputs": [
        {
          "output_type": "stream",
          "name": "stdout",
          "text": [
            "Downloading...\n",
            "From: https://drive.google.com/uc?id=1PwVlFTuHit5exEVkNOJ8BejwCgs0Tgvz\n",
            "To: /content/howpop_test.csv\n",
            "100% 813k/813k [00:00<00:00, 53.4MB/s]\n",
            "Downloading...\n",
            "From: https://drive.google.com/uc?id=1qmsSz4Ac7Jtuz2e-sfSqxMbybnkoYlF8\n",
            "To: /content/howpop_train.csv\n",
            "100% 34.0M/34.0M [00:00<00:00, 93.1MB/s]\n"
          ]
        }
      ]
    },
    {
      "cell_type": "code",
      "source": [
        "df = pd.read_csv(\"howpop_train.csv\")\n",
        "df.shape"
      ],
      "metadata": {
        "colab": {
          "base_uri": "https://localhost:8080/"
        },
        "id": "Q9B37PEYywSX",
        "outputId": "d7f5c496-2936-46d9-f65b-116e787628a9"
      },
      "execution_count": null,
      "outputs": [
        {
          "output_type": "execute_result",
          "data": {
            "text/plain": [
              "(134137, 17)"
            ]
          },
          "metadata": {},
          "execution_count": 3
        }
      ]
    },
    {
      "cell_type": "code",
      "source": [
        "df.head(3).T "
      ],
      "metadata": {
        "colab": {
          "base_uri": "https://localhost:8080/",
          "height": 582
        },
        "id": "vKUooNqKzFDi",
        "outputId": "02caab19-7242-4505-b061-73bd9aaf875a"
      },
      "execution_count": null,
      "outputs": [
        {
          "output_type": "execute_result",
          "data": {
            "text/html": [
              "\n",
              "  <div id=\"df-1a78dd1f-a8f8-4c1b-a443-9c9621e4f08c\">\n",
              "    <div class=\"colab-df-container\">\n",
              "      <div>\n",
              "<style scoped>\n",
              "    .dataframe tbody tr th:only-of-type {\n",
              "        vertical-align: middle;\n",
              "    }\n",
              "\n",
              "    .dataframe tbody tr th {\n",
              "        vertical-align: top;\n",
              "    }\n",
              "\n",
              "    .dataframe thead th {\n",
              "        text-align: right;\n",
              "    }\n",
              "</style>\n",
              "<table border=\"1\" class=\"dataframe\">\n",
              "  <thead>\n",
              "    <tr style=\"text-align: right;\">\n",
              "      <th></th>\n",
              "      <th>0</th>\n",
              "      <th>1</th>\n",
              "      <th>2</th>\n",
              "    </tr>\n",
              "  </thead>\n",
              "  <tbody>\n",
              "    <tr>\n",
              "      <th>url</th>\n",
              "      <td>https://habrahabr.ru/post/18284/</td>\n",
              "      <td>https://habrahabr.ru/post/18285/</td>\n",
              "      <td>https://habrahabr.ru/post/18286/</td>\n",
              "    </tr>\n",
              "    <tr>\n",
              "      <th>domain</th>\n",
              "      <td>habrahabr.ru</td>\n",
              "      <td>habrahabr.ru</td>\n",
              "      <td>habrahabr.ru</td>\n",
              "    </tr>\n",
              "    <tr>\n",
              "      <th>post_id</th>\n",
              "      <td>18284</td>\n",
              "      <td>18285</td>\n",
              "      <td>18286</td>\n",
              "    </tr>\n",
              "    <tr>\n",
              "      <th>published</th>\n",
              "      <td>2008-01-01 18:19:00</td>\n",
              "      <td>2008-01-01 18:30:00</td>\n",
              "      <td>2008-01-01 18:34:00</td>\n",
              "    </tr>\n",
              "    <tr>\n",
              "      <th>author</th>\n",
              "      <td>@Tapac</td>\n",
              "      <td>@DezmASter</td>\n",
              "      <td>@DezmASter</td>\n",
              "    </tr>\n",
              "    <tr>\n",
              "      <th>flow</th>\n",
              "      <td>develop</td>\n",
              "      <td>design</td>\n",
              "      <td>design</td>\n",
              "    </tr>\n",
              "    <tr>\n",
              "      <th>polling</th>\n",
              "      <td>False</td>\n",
              "      <td>False</td>\n",
              "      <td>False</td>\n",
              "    </tr>\n",
              "    <tr>\n",
              "      <th>content_len</th>\n",
              "      <td>4305</td>\n",
              "      <td>7344</td>\n",
              "      <td>8431</td>\n",
              "    </tr>\n",
              "    <tr>\n",
              "      <th>title</th>\n",
              "      <td>Новогодний подарок блоггерам — WordPress 2.3.2</td>\n",
              "      <td>Сумасшедшие яйца, или сервис для отслеживания ...</td>\n",
              "      <td>Сумасшедшие яйца, или сервис для отслеживания ...</td>\n",
              "    </tr>\n",
              "    <tr>\n",
              "      <th>comments</th>\n",
              "      <td>0</td>\n",
              "      <td>1</td>\n",
              "      <td>47</td>\n",
              "    </tr>\n",
              "    <tr>\n",
              "      <th>favs</th>\n",
              "      <td>0</td>\n",
              "      <td>1</td>\n",
              "      <td>72</td>\n",
              "    </tr>\n",
              "    <tr>\n",
              "      <th>views</th>\n",
              "      <td>236</td>\n",
              "      <td>353</td>\n",
              "      <td>1200</td>\n",
              "    </tr>\n",
              "    <tr>\n",
              "      <th>votes_plus</th>\n",
              "      <td>0</td>\n",
              "      <td>1</td>\n",
              "      <td>45</td>\n",
              "    </tr>\n",
              "    <tr>\n",
              "      <th>votes_minus</th>\n",
              "      <td>0</td>\n",
              "      <td>0</td>\n",
              "      <td>5</td>\n",
              "    </tr>\n",
              "    <tr>\n",
              "      <th>views_lognorm</th>\n",
              "      <td>-0.792687</td>\n",
              "      <td>-0.485214</td>\n",
              "      <td>0.44609</td>\n",
              "    </tr>\n",
              "    <tr>\n",
              "      <th>favs_lognorm</th>\n",
              "      <td>-1.34407</td>\n",
              "      <td>-0.831946</td>\n",
              "      <td>1.79402</td>\n",
              "    </tr>\n",
              "    <tr>\n",
              "      <th>comments_lognorm</th>\n",
              "      <td>-2.43687</td>\n",
              "      <td>-1.87319</td>\n",
              "      <td>0.574656</td>\n",
              "    </tr>\n",
              "  </tbody>\n",
              "</table>\n",
              "</div>\n",
              "      <button class=\"colab-df-convert\" onclick=\"convertToInteractive('df-1a78dd1f-a8f8-4c1b-a443-9c9621e4f08c')\"\n",
              "              title=\"Convert this dataframe to an interactive table.\"\n",
              "              style=\"display:none;\">\n",
              "        \n",
              "  <svg xmlns=\"http://www.w3.org/2000/svg\" height=\"24px\"viewBox=\"0 0 24 24\"\n",
              "       width=\"24px\">\n",
              "    <path d=\"M0 0h24v24H0V0z\" fill=\"none\"/>\n",
              "    <path d=\"M18.56 5.44l.94 2.06.94-2.06 2.06-.94-2.06-.94-.94-2.06-.94 2.06-2.06.94zm-11 1L8.5 8.5l.94-2.06 2.06-.94-2.06-.94L8.5 2.5l-.94 2.06-2.06.94zm10 10l.94 2.06.94-2.06 2.06-.94-2.06-.94-.94-2.06-.94 2.06-2.06.94z\"/><path d=\"M17.41 7.96l-1.37-1.37c-.4-.4-.92-.59-1.43-.59-.52 0-1.04.2-1.43.59L10.3 9.45l-7.72 7.72c-.78.78-.78 2.05 0 2.83L4 21.41c.39.39.9.59 1.41.59.51 0 1.02-.2 1.41-.59l7.78-7.78 2.81-2.81c.8-.78.8-2.07 0-2.86zM5.41 20L4 18.59l7.72-7.72 1.47 1.35L5.41 20z\"/>\n",
              "  </svg>\n",
              "      </button>\n",
              "      \n",
              "  <style>\n",
              "    .colab-df-container {\n",
              "      display:flex;\n",
              "      flex-wrap:wrap;\n",
              "      gap: 12px;\n",
              "    }\n",
              "\n",
              "    .colab-df-convert {\n",
              "      background-color: #E8F0FE;\n",
              "      border: none;\n",
              "      border-radius: 50%;\n",
              "      cursor: pointer;\n",
              "      display: none;\n",
              "      fill: #1967D2;\n",
              "      height: 32px;\n",
              "      padding: 0 0 0 0;\n",
              "      width: 32px;\n",
              "    }\n",
              "\n",
              "    .colab-df-convert:hover {\n",
              "      background-color: #E2EBFA;\n",
              "      box-shadow: 0px 1px 2px rgba(60, 64, 67, 0.3), 0px 1px 3px 1px rgba(60, 64, 67, 0.15);\n",
              "      fill: #174EA6;\n",
              "    }\n",
              "\n",
              "    [theme=dark] .colab-df-convert {\n",
              "      background-color: #3B4455;\n",
              "      fill: #D2E3FC;\n",
              "    }\n",
              "\n",
              "    [theme=dark] .colab-df-convert:hover {\n",
              "      background-color: #434B5C;\n",
              "      box-shadow: 0px 1px 3px 1px rgba(0, 0, 0, 0.15);\n",
              "      filter: drop-shadow(0px 1px 2px rgba(0, 0, 0, 0.3));\n",
              "      fill: #FFFFFF;\n",
              "    }\n",
              "  </style>\n",
              "\n",
              "      <script>\n",
              "        const buttonEl =\n",
              "          document.querySelector('#df-1a78dd1f-a8f8-4c1b-a443-9c9621e4f08c button.colab-df-convert');\n",
              "        buttonEl.style.display =\n",
              "          google.colab.kernel.accessAllowed ? 'block' : 'none';\n",
              "\n",
              "        async function convertToInteractive(key) {\n",
              "          const element = document.querySelector('#df-1a78dd1f-a8f8-4c1b-a443-9c9621e4f08c');\n",
              "          const dataTable =\n",
              "            await google.colab.kernel.invokeFunction('convertToInteractive',\n",
              "                                                     [key], {});\n",
              "          if (!dataTable) return;\n",
              "\n",
              "          const docLinkHtml = 'Like what you see? Visit the ' +\n",
              "            '<a target=\"_blank\" href=https://colab.research.google.com/notebooks/data_table.ipynb>data table notebook</a>'\n",
              "            + ' to learn more about interactive tables.';\n",
              "          element.innerHTML = '';\n",
              "          dataTable['output_type'] = 'display_data';\n",
              "          await google.colab.output.renderOutput(dataTable, element);\n",
              "          const docLink = document.createElement('div');\n",
              "          docLink.innerHTML = docLinkHtml;\n",
              "          element.appendChild(docLink);\n",
              "        }\n",
              "      </script>\n",
              "    </div>\n",
              "  </div>\n",
              "  "
            ],
            "text/plain": [
              "                                                               0  ...                                                  2\n",
              "url                             https://habrahabr.ru/post/18284/  ...                   https://habrahabr.ru/post/18286/\n",
              "domain                                              habrahabr.ru  ...                                       habrahabr.ru\n",
              "post_id                                                    18284  ...                                              18286\n",
              "published                                    2008-01-01 18:19:00  ...                                2008-01-01 18:34:00\n",
              "author                                                    @Tapac  ...                                         @DezmASter\n",
              "flow                                                     develop  ...                                             design\n",
              "polling                                                    False  ...                                              False\n",
              "content_len                                                 4305  ...                                               8431\n",
              "title             Новогодний подарок блоггерам — WordPress 2.3.2  ...  Сумасшедшие яйца, или сервис для отслеживания ...\n",
              "comments                                                       0  ...                                                 47\n",
              "favs                                                           0  ...                                                 72\n",
              "views                                                        236  ...                                               1200\n",
              "votes_plus                                                     0  ...                                                 45\n",
              "votes_minus                                                    0  ...                                                  5\n",
              "views_lognorm                                          -0.792687  ...                                            0.44609\n",
              "favs_lognorm                                            -1.34407  ...                                            1.79402\n",
              "comments_lognorm                                        -2.43687  ...                                           0.574656\n",
              "\n",
              "[17 rows x 3 columns]"
            ]
          },
          "metadata": {},
          "execution_count": 4
        }
      ]
    },
    {
      "cell_type": "markdown",
      "source": [
        "**Избавимся сразу от переменных, названия которых заканчиваются на _lognorm (нужны для соревнования на Kaggle). Выберем их с помощью filter() и удалим drop-ом:**"
      ],
      "metadata": {
        "id": "BhFmXuc9zXPu"
      }
    },
    {
      "cell_type": "code",
      "source": [
        "df.drop(\n",
        "    filter(lambda c: c.endswith(\"_lognorm\"), df.columns),\n",
        "    axis=1,  # axis = 1: столбцы\n",
        "    inplace=True,\n",
        ")  # избавляет от необходимости сохранять датасет"
      ],
      "metadata": {
        "id": "lYYFMIRCzHhC"
      },
      "execution_count": null,
      "outputs": []
    },
    {
      "cell_type": "code",
      "source": [
        "df.describe().T"
      ],
      "metadata": {
        "colab": {
          "base_uri": "https://localhost:8080/",
          "height": 269
        },
        "id": "02b8dF3ozLFj",
        "outputId": "2f3f1bcb-4d8d-4e5a-bae6-75237edd58c4"
      },
      "execution_count": null,
      "outputs": [
        {
          "output_type": "execute_result",
          "data": {
            "text/html": [
              "\n",
              "  <div id=\"df-91242c46-4e6a-4ecd-823c-51484019e5d5\">\n",
              "    <div class=\"colab-df-container\">\n",
              "      <div>\n",
              "<style scoped>\n",
              "    .dataframe tbody tr th:only-of-type {\n",
              "        vertical-align: middle;\n",
              "    }\n",
              "\n",
              "    .dataframe tbody tr th {\n",
              "        vertical-align: top;\n",
              "    }\n",
              "\n",
              "    .dataframe thead th {\n",
              "        text-align: right;\n",
              "    }\n",
              "</style>\n",
              "<table border=\"1\" class=\"dataframe\">\n",
              "  <thead>\n",
              "    <tr style=\"text-align: right;\">\n",
              "      <th></th>\n",
              "      <th>count</th>\n",
              "      <th>mean</th>\n",
              "      <th>std</th>\n",
              "      <th>min</th>\n",
              "      <th>25%</th>\n",
              "      <th>50%</th>\n",
              "      <th>75%</th>\n",
              "      <th>max</th>\n",
              "    </tr>\n",
              "  </thead>\n",
              "  <tbody>\n",
              "    <tr>\n",
              "      <th>post_id</th>\n",
              "      <td>134137.0</td>\n",
              "      <td>181307.054265</td>\n",
              "      <td>81766.350702</td>\n",
              "      <td>18284.0</td>\n",
              "      <td>115565.0</td>\n",
              "      <td>182666.0</td>\n",
              "      <td>257401.0</td>\n",
              "      <td>314088.0</td>\n",
              "    </tr>\n",
              "    <tr>\n",
              "      <th>content_len</th>\n",
              "      <td>134137.0</td>\n",
              "      <td>7516.929699</td>\n",
              "      <td>8724.771640</td>\n",
              "      <td>1.0</td>\n",
              "      <td>2179.0</td>\n",
              "      <td>4949.0</td>\n",
              "      <td>9858.0</td>\n",
              "      <td>352471.0</td>\n",
              "    </tr>\n",
              "    <tr>\n",
              "      <th>comments</th>\n",
              "      <td>134137.0</td>\n",
              "      <td>39.625994</td>\n",
              "      <td>62.398958</td>\n",
              "      <td>0.0</td>\n",
              "      <td>7.0</td>\n",
              "      <td>19.0</td>\n",
              "      <td>48.0</td>\n",
              "      <td>2266.0</td>\n",
              "    </tr>\n",
              "    <tr>\n",
              "      <th>favs</th>\n",
              "      <td>134137.0</td>\n",
              "      <td>71.999866</td>\n",
              "      <td>145.854135</td>\n",
              "      <td>0.0</td>\n",
              "      <td>8.0</td>\n",
              "      <td>27.0</td>\n",
              "      <td>78.0</td>\n",
              "      <td>8718.0</td>\n",
              "    </tr>\n",
              "    <tr>\n",
              "      <th>views</th>\n",
              "      <td>134137.0</td>\n",
              "      <td>16631.013084</td>\n",
              "      <td>31479.819691</td>\n",
              "      <td>3.0</td>\n",
              "      <td>2100.0</td>\n",
              "      <td>7600.0</td>\n",
              "      <td>18700.0</td>\n",
              "      <td>1730000.0</td>\n",
              "    </tr>\n",
              "    <tr>\n",
              "      <th>votes_plus</th>\n",
              "      <td>133566.0</td>\n",
              "      <td>35.536888</td>\n",
              "      <td>42.461073</td>\n",
              "      <td>0.0</td>\n",
              "      <td>11.0</td>\n",
              "      <td>22.0</td>\n",
              "      <td>45.0</td>\n",
              "      <td>1466.0</td>\n",
              "    </tr>\n",
              "    <tr>\n",
              "      <th>votes_minus</th>\n",
              "      <td>133566.0</td>\n",
              "      <td>8.050035</td>\n",
              "      <td>11.398282</td>\n",
              "      <td>0.0</td>\n",
              "      <td>2.0</td>\n",
              "      <td>5.0</td>\n",
              "      <td>10.0</td>\n",
              "      <td>445.0</td>\n",
              "    </tr>\n",
              "  </tbody>\n",
              "</table>\n",
              "</div>\n",
              "      <button class=\"colab-df-convert\" onclick=\"convertToInteractive('df-91242c46-4e6a-4ecd-823c-51484019e5d5')\"\n",
              "              title=\"Convert this dataframe to an interactive table.\"\n",
              "              style=\"display:none;\">\n",
              "        \n",
              "  <svg xmlns=\"http://www.w3.org/2000/svg\" height=\"24px\"viewBox=\"0 0 24 24\"\n",
              "       width=\"24px\">\n",
              "    <path d=\"M0 0h24v24H0V0z\" fill=\"none\"/>\n",
              "    <path d=\"M18.56 5.44l.94 2.06.94-2.06 2.06-.94-2.06-.94-.94-2.06-.94 2.06-2.06.94zm-11 1L8.5 8.5l.94-2.06 2.06-.94-2.06-.94L8.5 2.5l-.94 2.06-2.06.94zm10 10l.94 2.06.94-2.06 2.06-.94-2.06-.94-.94-2.06-.94 2.06-2.06.94z\"/><path d=\"M17.41 7.96l-1.37-1.37c-.4-.4-.92-.59-1.43-.59-.52 0-1.04.2-1.43.59L10.3 9.45l-7.72 7.72c-.78.78-.78 2.05 0 2.83L4 21.41c.39.39.9.59 1.41.59.51 0 1.02-.2 1.41-.59l7.78-7.78 2.81-2.81c.8-.78.8-2.07 0-2.86zM5.41 20L4 18.59l7.72-7.72 1.47 1.35L5.41 20z\"/>\n",
              "  </svg>\n",
              "      </button>\n",
              "      \n",
              "  <style>\n",
              "    .colab-df-container {\n",
              "      display:flex;\n",
              "      flex-wrap:wrap;\n",
              "      gap: 12px;\n",
              "    }\n",
              "\n",
              "    .colab-df-convert {\n",
              "      background-color: #E8F0FE;\n",
              "      border: none;\n",
              "      border-radius: 50%;\n",
              "      cursor: pointer;\n",
              "      display: none;\n",
              "      fill: #1967D2;\n",
              "      height: 32px;\n",
              "      padding: 0 0 0 0;\n",
              "      width: 32px;\n",
              "    }\n",
              "\n",
              "    .colab-df-convert:hover {\n",
              "      background-color: #E2EBFA;\n",
              "      box-shadow: 0px 1px 2px rgba(60, 64, 67, 0.3), 0px 1px 3px 1px rgba(60, 64, 67, 0.15);\n",
              "      fill: #174EA6;\n",
              "    }\n",
              "\n",
              "    [theme=dark] .colab-df-convert {\n",
              "      background-color: #3B4455;\n",
              "      fill: #D2E3FC;\n",
              "    }\n",
              "\n",
              "    [theme=dark] .colab-df-convert:hover {\n",
              "      background-color: #434B5C;\n",
              "      box-shadow: 0px 1px 3px 1px rgba(0, 0, 0, 0.15);\n",
              "      filter: drop-shadow(0px 1px 2px rgba(0, 0, 0, 0.3));\n",
              "      fill: #FFFFFF;\n",
              "    }\n",
              "  </style>\n",
              "\n",
              "      <script>\n",
              "        const buttonEl =\n",
              "          document.querySelector('#df-91242c46-4e6a-4ecd-823c-51484019e5d5 button.colab-df-convert');\n",
              "        buttonEl.style.display =\n",
              "          google.colab.kernel.accessAllowed ? 'block' : 'none';\n",
              "\n",
              "        async function convertToInteractive(key) {\n",
              "          const element = document.querySelector('#df-91242c46-4e6a-4ecd-823c-51484019e5d5');\n",
              "          const dataTable =\n",
              "            await google.colab.kernel.invokeFunction('convertToInteractive',\n",
              "                                                     [key], {});\n",
              "          if (!dataTable) return;\n",
              "\n",
              "          const docLinkHtml = 'Like what you see? Visit the ' +\n",
              "            '<a target=\"_blank\" href=https://colab.research.google.com/notebooks/data_table.ipynb>data table notebook</a>'\n",
              "            + ' to learn more about interactive tables.';\n",
              "          element.innerHTML = '';\n",
              "          dataTable['output_type'] = 'display_data';\n",
              "          await google.colab.output.renderOutput(dataTable, element);\n",
              "          const docLink = document.createElement('div');\n",
              "          docLink.innerHTML = docLinkHtml;\n",
              "          element.appendChild(docLink);\n",
              "        }\n",
              "      </script>\n",
              "    </div>\n",
              "  </div>\n",
              "  "
            ],
            "text/plain": [
              "                count           mean  ...       75%        max\n",
              "post_id      134137.0  181307.054265  ...  257401.0   314088.0\n",
              "content_len  134137.0    7516.929699  ...    9858.0   352471.0\n",
              "comments     134137.0      39.625994  ...      48.0     2266.0\n",
              "favs         134137.0      71.999866  ...      78.0     8718.0\n",
              "views        134137.0   16631.013084  ...   18700.0  1730000.0\n",
              "votes_plus   133566.0      35.536888  ...      45.0     1466.0\n",
              "votes_minus  133566.0       8.050035  ...      10.0      445.0\n",
              "\n",
              "[7 rows x 8 columns]"
            ]
          },
          "metadata": {},
          "execution_count": 6
        }
      ]
    },
    {
      "cell_type": "code",
      "source": [
        "df.describe(include=[\"object\", \"bool\"]).T  # бинарные и категориальные переменные"
      ],
      "metadata": {
        "colab": {
          "base_uri": "https://localhost:8080/",
          "height": 258
        },
        "id": "RhEJgcFtzfXK",
        "outputId": "a89f712d-2ae0-410c-af11-6c7cd040c8ab"
      },
      "execution_count": null,
      "outputs": [
        {
          "output_type": "execute_result",
          "data": {
            "text/html": [
              "\n",
              "  <div id=\"df-033cb8fa-4ac4-4364-8fa0-589c23254ec7\">\n",
              "    <div class=\"colab-df-container\">\n",
              "      <div>\n",
              "<style scoped>\n",
              "    .dataframe tbody tr th:only-of-type {\n",
              "        vertical-align: middle;\n",
              "    }\n",
              "\n",
              "    .dataframe tbody tr th {\n",
              "        vertical-align: top;\n",
              "    }\n",
              "\n",
              "    .dataframe thead th {\n",
              "        text-align: right;\n",
              "    }\n",
              "</style>\n",
              "<table border=\"1\" class=\"dataframe\">\n",
              "  <thead>\n",
              "    <tr style=\"text-align: right;\">\n",
              "      <th></th>\n",
              "      <th>count</th>\n",
              "      <th>unique</th>\n",
              "      <th>top</th>\n",
              "      <th>freq</th>\n",
              "    </tr>\n",
              "  </thead>\n",
              "  <tbody>\n",
              "    <tr>\n",
              "      <th>url</th>\n",
              "      <td>134137</td>\n",
              "      <td>134137</td>\n",
              "      <td>https://habrahabr.ru/post/132392/</td>\n",
              "      <td>1</td>\n",
              "    </tr>\n",
              "    <tr>\n",
              "      <th>domain</th>\n",
              "      <td>134137</td>\n",
              "      <td>2</td>\n",
              "      <td>habrahabr.ru</td>\n",
              "      <td>97048</td>\n",
              "    </tr>\n",
              "    <tr>\n",
              "      <th>published</th>\n",
              "      <td>134137</td>\n",
              "      <td>130291</td>\n",
              "      <td>2011-06-14 15:52:00</td>\n",
              "      <td>39</td>\n",
              "    </tr>\n",
              "    <tr>\n",
              "      <th>author</th>\n",
              "      <td>97657</td>\n",
              "      <td>22077</td>\n",
              "      <td>@alizar</td>\n",
              "      <td>5292</td>\n",
              "    </tr>\n",
              "    <tr>\n",
              "      <th>flow</th>\n",
              "      <td>97048</td>\n",
              "      <td>6</td>\n",
              "      <td>develop</td>\n",
              "      <td>53318</td>\n",
              "    </tr>\n",
              "    <tr>\n",
              "      <th>polling</th>\n",
              "      <td>134137</td>\n",
              "      <td>2</td>\n",
              "      <td>False</td>\n",
              "      <td>129412</td>\n",
              "    </tr>\n",
              "    <tr>\n",
              "      <th>title</th>\n",
              "      <td>134137</td>\n",
              "      <td>133628</td>\n",
              "      <td>Интересные события, произошедшие в выходные</td>\n",
              "      <td>56</td>\n",
              "    </tr>\n",
              "  </tbody>\n",
              "</table>\n",
              "</div>\n",
              "      <button class=\"colab-df-convert\" onclick=\"convertToInteractive('df-033cb8fa-4ac4-4364-8fa0-589c23254ec7')\"\n",
              "              title=\"Convert this dataframe to an interactive table.\"\n",
              "              style=\"display:none;\">\n",
              "        \n",
              "  <svg xmlns=\"http://www.w3.org/2000/svg\" height=\"24px\"viewBox=\"0 0 24 24\"\n",
              "       width=\"24px\">\n",
              "    <path d=\"M0 0h24v24H0V0z\" fill=\"none\"/>\n",
              "    <path d=\"M18.56 5.44l.94 2.06.94-2.06 2.06-.94-2.06-.94-.94-2.06-.94 2.06-2.06.94zm-11 1L8.5 8.5l.94-2.06 2.06-.94-2.06-.94L8.5 2.5l-.94 2.06-2.06.94zm10 10l.94 2.06.94-2.06 2.06-.94-2.06-.94-.94-2.06-.94 2.06-2.06.94z\"/><path d=\"M17.41 7.96l-1.37-1.37c-.4-.4-.92-.59-1.43-.59-.52 0-1.04.2-1.43.59L10.3 9.45l-7.72 7.72c-.78.78-.78 2.05 0 2.83L4 21.41c.39.39.9.59 1.41.59.51 0 1.02-.2 1.41-.59l7.78-7.78 2.81-2.81c.8-.78.8-2.07 0-2.86zM5.41 20L4 18.59l7.72-7.72 1.47 1.35L5.41 20z\"/>\n",
              "  </svg>\n",
              "      </button>\n",
              "      \n",
              "  <style>\n",
              "    .colab-df-container {\n",
              "      display:flex;\n",
              "      flex-wrap:wrap;\n",
              "      gap: 12px;\n",
              "    }\n",
              "\n",
              "    .colab-df-convert {\n",
              "      background-color: #E8F0FE;\n",
              "      border: none;\n",
              "      border-radius: 50%;\n",
              "      cursor: pointer;\n",
              "      display: none;\n",
              "      fill: #1967D2;\n",
              "      height: 32px;\n",
              "      padding: 0 0 0 0;\n",
              "      width: 32px;\n",
              "    }\n",
              "\n",
              "    .colab-df-convert:hover {\n",
              "      background-color: #E2EBFA;\n",
              "      box-shadow: 0px 1px 2px rgba(60, 64, 67, 0.3), 0px 1px 3px 1px rgba(60, 64, 67, 0.15);\n",
              "      fill: #174EA6;\n",
              "    }\n",
              "\n",
              "    [theme=dark] .colab-df-convert {\n",
              "      background-color: #3B4455;\n",
              "      fill: #D2E3FC;\n",
              "    }\n",
              "\n",
              "    [theme=dark] .colab-df-convert:hover {\n",
              "      background-color: #434B5C;\n",
              "      box-shadow: 0px 1px 3px 1px rgba(0, 0, 0, 0.15);\n",
              "      filter: drop-shadow(0px 1px 2px rgba(0, 0, 0, 0.3));\n",
              "      fill: #FFFFFF;\n",
              "    }\n",
              "  </style>\n",
              "\n",
              "      <script>\n",
              "        const buttonEl =\n",
              "          document.querySelector('#df-033cb8fa-4ac4-4364-8fa0-589c23254ec7 button.colab-df-convert');\n",
              "        buttonEl.style.display =\n",
              "          google.colab.kernel.accessAllowed ? 'block' : 'none';\n",
              "\n",
              "        async function convertToInteractive(key) {\n",
              "          const element = document.querySelector('#df-033cb8fa-4ac4-4364-8fa0-589c23254ec7');\n",
              "          const dataTable =\n",
              "            await google.colab.kernel.invokeFunction('convertToInteractive',\n",
              "                                                     [key], {});\n",
              "          if (!dataTable) return;\n",
              "\n",
              "          const docLinkHtml = 'Like what you see? Visit the ' +\n",
              "            '<a target=\"_blank\" href=https://colab.research.google.com/notebooks/data_table.ipynb>data table notebook</a>'\n",
              "            + ' to learn more about interactive tables.';\n",
              "          element.innerHTML = '';\n",
              "          dataTable['output_type'] = 'display_data';\n",
              "          await google.colab.output.renderOutput(dataTable, element);\n",
              "          const docLink = document.createElement('div');\n",
              "          docLink.innerHTML = docLinkHtml;\n",
              "          element.appendChild(docLink);\n",
              "        }\n",
              "      </script>\n",
              "    </div>\n",
              "  </div>\n",
              "  "
            ],
            "text/plain": [
              "            count  unique                                          top    freq\n",
              "url        134137  134137            https://habrahabr.ru/post/132392/       1\n",
              "domain     134137       2                                 habrahabr.ru   97048\n",
              "published  134137  130291                          2011-06-14 15:52:00      39\n",
              "author      97657   22077                                      @alizar    5292\n",
              "flow        97048       6                                      develop   53318\n",
              "polling    134137       2                                        False  129412\n",
              "title      134137  133628  Интересные события, произошедшие в выходные      56"
            ]
          },
          "metadata": {},
          "execution_count": 7
        }
      ]
    },
    {
      "cell_type": "code",
      "source": [
        "# настройка внешнего вида графиков в seaborn\n",
        "sns.set_style(\"dark\")\n",
        "sns.set_palette(\"RdBu\")\n",
        "sns.set_context(\n",
        "    \"notebook\", font_scale=1.5, rc={\"figure.figsize\": (15, 5), \"axes.titlesize\": 18}\n",
        ")"
      ],
      "metadata": {
        "id": "OmU-33OYzhUR"
      },
      "execution_count": null,
      "outputs": []
    },
    {
      "cell_type": "markdown",
      "source": [
        "Столбец published (время публикации) содержит строки. Чтобы мы могли работать с этими данными как с датой/временем публикации, приведём их к типу datetime:"
      ],
      "metadata": {
        "id": "a6PgwigGzndr"
      }
    },
    {
      "cell_type": "code",
      "source": [
        "print(df.published.dtype)\n",
        "df[\"published\"] = pd.to_datetime(df.published, yearfirst=True)\n",
        "print(df.published.dtype)"
      ],
      "metadata": {
        "colab": {
          "base_uri": "https://localhost:8080/"
        },
        "id": "drGPIy-2zjIL",
        "outputId": "af3f797c-a260-4386-a381-c1c7902e53cd"
      },
      "execution_count": null,
      "outputs": [
        {
          "output_type": "stream",
          "name": "stdout",
          "text": [
            "object\n",
            "datetime64[ns]\n"
          ]
        }
      ]
    },
    {
      "cell_type": "markdown",
      "source": [
        "**Создадим несколько столбцов на основе данных о времени публикации:**"
      ],
      "metadata": {
        "id": "dhh_X-IJzvMt"
      }
    },
    {
      "cell_type": "code",
      "source": [
        "df[\"year\"] = [d.year for d in df.published]\n",
        "df[\"month\"] = [d.month for d in df.published]\n",
        "\n",
        "df[\"dayofweek\"] = [d.isoweekday() for d in df.published]\n",
        "df[\"hour\"] = [d.hour for d in df.published]"
      ],
      "metadata": {
        "id": "LGd_3yjnzrZN"
      },
      "execution_count": null,
      "outputs": []
    },
    {
      "cell_type": "markdown",
      "source": [
        "# **1. В каком месяце (и какого года) было больше всего публикаций?**"
      ],
      "metadata": {
        "id": "tpip7z5Az8UE"
      }
    },
    {
      "cell_type": "markdown",
      "source": [
        "март 2016\n",
        "\n",
        "март 2015\n",
        "\n",
        "апрель 2015\n",
        "\n",
        "апрель 2016"
      ],
      "metadata": {
        "id": "moNmkxL3z_aS"
      }
    },
    {
      "cell_type": "code",
      "source": [
        "df.groupby(['year', 'month'], sort=True)['content_len'].count()"
      ],
      "metadata": {
        "colab": {
          "base_uri": "https://localhost:8080/"
        },
        "id": "i3zVrTOw0f9G",
        "outputId": "0b217ee9-0b75-4ca1-a2c2-569d26e63b96"
      },
      "execution_count": null,
      "outputs": [
        {
          "output_type": "execute_result",
          "data": {
            "text/plain": [
              "year  month\n",
              "2008  1         435\n",
              "      2         496\n",
              "      3         545\n",
              "      4         597\n",
              "      5         635\n",
              "               ... \n",
              "2016  6        1498\n",
              "      7        1278\n",
              "      8        1278\n",
              "      9        1482\n",
              "      10       1493\n",
              "Name: content_len, Length: 106, dtype: int64"
            ]
          },
          "metadata": {},
          "execution_count": 98
        }
      ]
    },
    {
      "cell_type": "code",
      "source": [
        "df.groupby(['year', 'month'], sort=True)['content_len'].count().max() # максимальное число публикаций"
      ],
      "metadata": {
        "colab": {
          "base_uri": "https://localhost:8080/"
        },
        "id": "qwPg5_jGJ1uL",
        "outputId": "73df42b0-68ed-4cd1-e517-10f00b8eff57"
      },
      "execution_count": null,
      "outputs": [
        {
          "output_type": "execute_result",
          "data": {
            "text/plain": [
              "2189"
            ]
          },
          "metadata": {},
          "execution_count": 97
        }
      ]
    },
    {
      "cell_type": "code",
      "source": [
        "df.year.unique() # все года, которые есть в данных"
      ],
      "metadata": {
        "colab": {
          "base_uri": "https://localhost:8080/"
        },
        "id": "bwQoB1lxGzDE",
        "outputId": "186dc9ee-0436-47ce-8c5a-b7ee1990f343"
      },
      "execution_count": null,
      "outputs": [
        {
          "output_type": "execute_result",
          "data": {
            "text/plain": [
              "array([2008, 2009, 2010, 2011, 2012, 2013, 2014, 2015, 2016])"
            ]
          },
          "metadata": {},
          "execution_count": 89
        }
      ]
    },
    {
      "cell_type": "code",
      "source": [
        "year = 2008\n",
        "month = 0\n",
        "count = 0\n",
        "for i in df.groupby(['year', 'month'], sort=True)['content_len'].count():\n",
        "  count += 1\n",
        "  if i == 2189:\n",
        "    break\n",
        "print(year + count//12, \"year\", month + count%12, \"month\") # год и месяц \n",
        "# (1 способ нахождения)"
      ],
      "metadata": {
        "colab": {
          "base_uri": "https://localhost:8080/"
        },
        "id": "vxkjxb8JEfNI",
        "outputId": "adf8f362-e509-4e7a-dfcb-fe057f868a75"
      },
      "execution_count": null,
      "outputs": [
        {
          "output_type": "stream",
          "name": "stdout",
          "text": [
            "2015 year 3 month\n"
          ]
        }
      ]
    },
    {
      "cell_type": "code",
      "source": [
        "df['year_month'] = [str(p)[:7] for p in df.published] # создание новой колонки\n",
        "print(df.year_month.value_counts(sort=False))"
      ],
      "metadata": {
        "colab": {
          "base_uri": "https://localhost:8080/"
        },
        "id": "0gq4F5OwCmIr",
        "outputId": "8d008ab0-c030-4f65-9eb9-981763f35225"
      },
      "execution_count": null,
      "outputs": [
        {
          "output_type": "stream",
          "name": "stdout",
          "text": [
            "2008-04     597\n",
            "2015-08    1849\n",
            "2015-09    1944\n",
            "2013-03    1327\n",
            "2009-06     733\n",
            "           ... \n",
            "2010-01    1010\n",
            "2012-10    1421\n",
            "2008-03     545\n",
            "2016-04    1910\n",
            "2012-04    1330\n",
            "Name: year_month, Length: 106, dtype: int64\n"
          ]
        }
      ]
    },
    {
      "cell_type": "code",
      "source": [
        "print(df.year_month.value_counts(sort=True)) # отсортированные значения "
      ],
      "metadata": {
        "colab": {
          "base_uri": "https://localhost:8080/"
        },
        "id": "mhYwFTEfLYyT",
        "outputId": "9adf6100-851f-4395-b95d-65027c8921cd"
      },
      "execution_count": null,
      "outputs": [
        {
          "output_type": "stream",
          "name": "stdout",
          "text": [
            "2015-03    2189\n",
            "2016-03    2115\n",
            "2015-07    2111\n",
            "2015-04    2110\n",
            "2015-12    2084\n",
            "           ... \n",
            "2008-06     599\n",
            "2008-04     597\n",
            "2008-03     545\n",
            "2008-02     496\n",
            "2008-01     435\n",
            "Name: year_month, Length: 106, dtype: int64\n"
          ]
        }
      ]
    },
    {
      "cell_type": "code",
      "source": [
        "most = df.year_month.value_counts().index[0]\n",
        "print(most) # 2 способ"
      ],
      "metadata": {
        "colab": {
          "base_uri": "https://localhost:8080/"
        },
        "id": "Ky7wDZjZLC7J",
        "outputId": "4c71960f-34bc-4e51-d2f8-e40b24c0e836"
      },
      "execution_count": null,
      "outputs": [
        {
          "output_type": "stream",
          "name": "stdout",
          "text": [
            "2015-03\n"
          ]
        }
      ]
    },
    {
      "cell_type": "markdown",
      "source": [
        "# **2. Проанализируйте публикации в месяце из предыдущего вопроса**"
      ],
      "metadata": {
        "id": "uhfNvnM-5I4J"
      }
    },
    {
      "cell_type": "markdown",
      "source": [
        "Выберите один или несколько вариантов:\n",
        "\n",
        "1) Один или несколько дней сильно выделяются из общей картины\n",
        "\n",
        "2) На хабре всегда больше статей, чем на гиктаймсе\n",
        "\n",
        "3) По субботам на гиктаймс и на хабрахабр публикуют примерно одинаковое число статей\n",
        "\n",
        "Подсказки: постройте график зависимости числа публикаций от дня; используйте параметр hue; не заморачивайтесь сильно с ответами и не ищите скрытого смысла :)"
      ],
      "metadata": {
        "id": "s_W7NDOX5LQO"
      }
    },
    {
      "cell_type": "code",
      "source": [
        "df[\"day\"] = [d.day for d in df.published]"
      ],
      "metadata": {
        "id": "bf0OxShe2tux"
      },
      "execution_count": null,
      "outputs": []
    },
    {
      "cell_type": "code",
      "source": [
        "data = df[df['year-month'] == '2015-03'].drop(['url', 'flow', 'polling', 'title', 'post_id', 'favs', 'views', 'votes_plus'], axis=True)"
      ],
      "metadata": {
        "id": "h6o-K-mQ2t2E"
      },
      "execution_count": null,
      "outputs": []
    },
    {
      "cell_type": "code",
      "source": [
        "df[df.year.isin(top)].groupby('author')[['votes_minus']].mean().sort_values('votes_minus')"
      ],
      "metadata": {
        "colab": {
          "base_uri": "https://localhost:8080/",
          "height": 81
        },
        "id": "o6iVX8uk2t8W",
        "outputId": "ecd0b148-3525-4252-98f7-d94f2c8f6a91"
      },
      "execution_count": null,
      "outputs": [
        {
          "output_type": "execute_result",
          "data": {
            "text/html": [
              "\n",
              "  <div id=\"df-e4cd3302-dc77-496a-9ec4-6a9230f239a3\">\n",
              "    <div class=\"colab-df-container\">\n",
              "      <div>\n",
              "<style scoped>\n",
              "    .dataframe tbody tr th:only-of-type {\n",
              "        vertical-align: middle;\n",
              "    }\n",
              "\n",
              "    .dataframe tbody tr th {\n",
              "        vertical-align: top;\n",
              "    }\n",
              "\n",
              "    .dataframe thead th {\n",
              "        text-align: right;\n",
              "    }\n",
              "</style>\n",
              "<table border=\"1\" class=\"dataframe\">\n",
              "  <thead>\n",
              "    <tr style=\"text-align: right;\">\n",
              "      <th></th>\n",
              "      <th>votes_minus</th>\n",
              "    </tr>\n",
              "    <tr>\n",
              "      <th>author</th>\n",
              "      <th></th>\n",
              "    </tr>\n",
              "  </thead>\n",
              "  <tbody>\n",
              "  </tbody>\n",
              "</table>\n",
              "</div>\n",
              "      <button class=\"colab-df-convert\" onclick=\"convertToInteractive('df-e4cd3302-dc77-496a-9ec4-6a9230f239a3')\"\n",
              "              title=\"Convert this dataframe to an interactive table.\"\n",
              "              style=\"display:none;\">\n",
              "        \n",
              "  <svg xmlns=\"http://www.w3.org/2000/svg\" height=\"24px\"viewBox=\"0 0 24 24\"\n",
              "       width=\"24px\">\n",
              "    <path d=\"M0 0h24v24H0V0z\" fill=\"none\"/>\n",
              "    <path d=\"M18.56 5.44l.94 2.06.94-2.06 2.06-.94-2.06-.94-.94-2.06-.94 2.06-2.06.94zm-11 1L8.5 8.5l.94-2.06 2.06-.94-2.06-.94L8.5 2.5l-.94 2.06-2.06.94zm10 10l.94 2.06.94-2.06 2.06-.94-2.06-.94-.94-2.06-.94 2.06-2.06.94z\"/><path d=\"M17.41 7.96l-1.37-1.37c-.4-.4-.92-.59-1.43-.59-.52 0-1.04.2-1.43.59L10.3 9.45l-7.72 7.72c-.78.78-.78 2.05 0 2.83L4 21.41c.39.39.9.59 1.41.59.51 0 1.02-.2 1.41-.59l7.78-7.78 2.81-2.81c.8-.78.8-2.07 0-2.86zM5.41 20L4 18.59l7.72-7.72 1.47 1.35L5.41 20z\"/>\n",
              "  </svg>\n",
              "      </button>\n",
              "      \n",
              "  <style>\n",
              "    .colab-df-container {\n",
              "      display:flex;\n",
              "      flex-wrap:wrap;\n",
              "      gap: 12px;\n",
              "    }\n",
              "\n",
              "    .colab-df-convert {\n",
              "      background-color: #E8F0FE;\n",
              "      border: none;\n",
              "      border-radius: 50%;\n",
              "      cursor: pointer;\n",
              "      display: none;\n",
              "      fill: #1967D2;\n",
              "      height: 32px;\n",
              "      padding: 0 0 0 0;\n",
              "      width: 32px;\n",
              "    }\n",
              "\n",
              "    .colab-df-convert:hover {\n",
              "      background-color: #E2EBFA;\n",
              "      box-shadow: 0px 1px 2px rgba(60, 64, 67, 0.3), 0px 1px 3px 1px rgba(60, 64, 67, 0.15);\n",
              "      fill: #174EA6;\n",
              "    }\n",
              "\n",
              "    [theme=dark] .colab-df-convert {\n",
              "      background-color: #3B4455;\n",
              "      fill: #D2E3FC;\n",
              "    }\n",
              "\n",
              "    [theme=dark] .colab-df-convert:hover {\n",
              "      background-color: #434B5C;\n",
              "      box-shadow: 0px 1px 3px 1px rgba(0, 0, 0, 0.15);\n",
              "      filter: drop-shadow(0px 1px 2px rgba(0, 0, 0, 0.3));\n",
              "      fill: #FFFFFF;\n",
              "    }\n",
              "  </style>\n",
              "\n",
              "      <script>\n",
              "        const buttonEl =\n",
              "          document.querySelector('#df-e4cd3302-dc77-496a-9ec4-6a9230f239a3 button.colab-df-convert');\n",
              "        buttonEl.style.display =\n",
              "          google.colab.kernel.accessAllowed ? 'block' : 'none';\n",
              "\n",
              "        async function convertToInteractive(key) {\n",
              "          const element = document.querySelector('#df-e4cd3302-dc77-496a-9ec4-6a9230f239a3');\n",
              "          const dataTable =\n",
              "            await google.colab.kernel.invokeFunction('convertToInteractive',\n",
              "                                                     [key], {});\n",
              "          if (!dataTable) return;\n",
              "\n",
              "          const docLinkHtml = 'Like what you see? Visit the ' +\n",
              "            '<a target=\"_blank\" href=https://colab.research.google.com/notebooks/data_table.ipynb>data table notebook</a>'\n",
              "            + ' to learn more about interactive tables.';\n",
              "          element.innerHTML = '';\n",
              "          dataTable['output_type'] = 'display_data';\n",
              "          await google.colab.output.renderOutput(dataTable, element);\n",
              "          const docLink = document.createElement('div');\n",
              "          docLink.innerHTML = docLinkHtml;\n",
              "          element.appendChild(docLink);\n",
              "        }\n",
              "      </script>\n",
              "    </div>\n",
              "  </div>\n",
              "  "
            ],
            "text/plain": [
              "Empty DataFrame\n",
              "Columns: [votes_minus]\n",
              "Index: []"
            ]
          },
          "metadata": {},
          "execution_count": 120
        }
      ]
    },
    {
      "cell_type": "code",
      "source": [
        "day = list(range(1, 32))\n",
        "count = []\n",
        "for i in day:\n",
        "  count.append(data[data['day'] == i].count()[1])\n",
        "\n",
        "print(day)\n",
        "print(count)"
      ],
      "metadata": {
        "colab": {
          "base_uri": "https://localhost:8080/"
        },
        "id": "npQmz01p2uAJ",
        "outputId": "aca9aafd-1b13-44bf-a10a-e761d6f341ef"
      },
      "execution_count": null,
      "outputs": [
        {
          "output_type": "stream",
          "name": "stdout",
          "text": [
            "[1, 2, 3, 4, 5, 6, 7, 8, 9, 10, 11, 12, 13, 14, 15, 16, 17, 18, 19, 20, 21, 22, 23, 24, 25, 26, 27, 28, 29, 30, 31]\n",
            "[32, 98, 94, 98, 72, 71, 31, 26, 42, 98, 92, 99, 78, 30, 30, 99, 107, 80, 88, 74, 22, 30, 78, 86, 92, 89, 92, 32, 38, 79, 112]\n"
          ]
        }
      ]
    },
    {
      "cell_type": "code",
      "source": [
        "fig = plt.figure(figsize=(20,5))\n",
        "plt.plot(day, count)"
      ],
      "metadata": {
        "colab": {
          "base_uri": "https://localhost:8080/",
          "height": 347
        },
        "id": "c0dfVM5JZOTc",
        "outputId": "6d6684cb-2037-4eb1-9d05-0d7268d8d7c3"
      },
      "execution_count": null,
      "outputs": [
        {
          "output_type": "execute_result",
          "data": {
            "text/plain": [
              "[<matplotlib.lines.Line2D at 0x7ffb0d6452d0>]"
            ]
          },
          "metadata": {},
          "execution_count": 163
        },
        {
          "output_type": "display_data",
          "data": {
            "image/png": "[encoded data removed]",
            "text/plain": [
              "<Figure size 1440x360 with 1 Axes>"
            ]
          },
          "metadata": {
            "needs_background": "light"
          }
        }
      ]
    },
    {
      "cell_type": "code",
      "source": [
        "s = pd.Series(count)\n",
        "fig = plt.figure(figsize=(20,5))\n",
        "s.plot(kind='bar')"
      ],
      "metadata": {
        "colab": {
          "base_uri": "https://localhost:8080/",
          "height": 350
        },
        "id": "turrYP_yaOlb",
        "outputId": "d47da942-3b13-4b99-bf69-d34c3ee0465e"
      },
      "execution_count": null,
      "outputs": [
        {
          "output_type": "execute_result",
          "data": {
            "text/plain": [
              "<matplotlib.axes._subplots.AxesSubplot at 0x7ffb0ca34b50>"
            ]
          },
          "metadata": {},
          "execution_count": 170
        },
        {
          "output_type": "display_data",
          "data": {
            "image/png": "[encoded data removed]",
            "text/plain": [
              "<Figure size 1440x360 with 1 Axes>"
            ]
          },
          "metadata": {
            "needs_background": "light"
          }
        }
      ]
    },
    {
      "cell_type": "code",
      "source": [
        "df_most = df[df.year_month == most]\n",
        "df_most['day'] = [p.day for p in df_most.published]\n",
        "fig = plt.figure(figsize=(20,5))\n",
        "sns.countplot(x = 'day', data = df_most);"
      ],
      "metadata": {
        "colab": {
          "base_uri": "https://localhost:8080/",
          "height": 456
        },
        "id": "d5x05zMtdRGj",
        "outputId": "6bdb8f03-0348-40ad-e0cd-715c8ec70cef"
      },
      "execution_count": null,
      "outputs": [
        {
          "output_type": "stream",
          "name": "stderr",
          "text": [
            "/usr/local/lib/python3.7/dist-packages/ipykernel_launcher.py:2: SettingWithCopyWarning: \n",
            "A value is trying to be set on a copy of a slice from a DataFrame.\n",
            "Try using .loc[row_indexer,col_indexer] = value instead\n",
            "\n",
            "See the caveats in the documentation: https://pandas.pydata.org/pandas-docs/stable/user_guide/indexing.html#returning-a-view-versus-a-copy\n",
            "  \n"
          ]
        },
        {
          "output_type": "display_data",
          "data": {
            "image/png": "[encoded data removed]",
            "text/plain": [
              "<Figure size 1440x360 with 1 Axes>"
            ]
          },
          "metadata": {
            "needs_background": "light"
          }
        }
      ]
    },
    {
      "cell_type": "code",
      "source": [
        "data.head()"
      ],
      "metadata": {
        "colab": {
          "base_uri": "https://localhost:8080/",
          "height": 206
        },
        "id": "fjlk2XnloIP_",
        "outputId": "cbba12da-80ea-41fe-eb8a-66198f7f5136"
      },
      "execution_count": null,
      "outputs": [
        {
          "output_type": "execute_result",
          "data": {
            "text/html": [
              "\n",
              "  <div id=\"df-9fa614e4-5491-47c1-a737-a78ec63b2f9b\">\n",
              "    <div class=\"colab-df-container\">\n",
              "      <div>\n",
              "<style scoped>\n",
              "    .dataframe tbody tr th:only-of-type {\n",
              "        vertical-align: middle;\n",
              "    }\n",
              "\n",
              "    .dataframe tbody tr th {\n",
              "        vertical-align: top;\n",
              "    }\n",
              "\n",
              "    .dataframe thead th {\n",
              "        text-align: right;\n",
              "    }\n",
              "</style>\n",
              "<table border=\"1\" class=\"dataframe\">\n",
              "  <thead>\n",
              "    <tr style=\"text-align: right;\">\n",
              "      <th></th>\n",
              "      <th>domain</th>\n",
              "      <th>published</th>\n",
              "      <th>author</th>\n",
              "      <th>content_len</th>\n",
              "      <th>comments</th>\n",
              "      <th>votes_minus</th>\n",
              "      <th>year</th>\n",
              "      <th>month</th>\n",
              "      <th>dayofweek</th>\n",
              "      <th>hour</th>\n",
              "      <th>day</th>\n",
              "      <th>mon_yr</th>\n",
              "      <th>year-month</th>\n",
              "      <th>year_month</th>\n",
              "      <th>month_day</th>\n",
              "    </tr>\n",
              "  </thead>\n",
              "  <tbody>\n",
              "    <tr>\n",
              "      <th>97666</th>\n",
              "      <td>habrahabr.ru</td>\n",
              "      <td>2015-03-01 00:00:00</td>\n",
              "      <td>@SLY_G</td>\n",
              "      <td>49647</td>\n",
              "      <td>6</td>\n",
              "      <td>4.0</td>\n",
              "      <td>2015</td>\n",
              "      <td>3</td>\n",
              "      <td>7</td>\n",
              "      <td>0</td>\n",
              "      <td>1</td>\n",
              "      <td>2015-03</td>\n",
              "      <td>2015-03</td>\n",
              "      <td>2015-03</td>\n",
              "      <td>03-01</td>\n",
              "    </tr>\n",
              "    <tr>\n",
              "      <th>97667</th>\n",
              "      <td>habrahabr.ru</td>\n",
              "      <td>2015-03-01 00:09:00</td>\n",
              "      <td>NaN</td>\n",
              "      <td>8581</td>\n",
              "      <td>14</td>\n",
              "      <td>2.0</td>\n",
              "      <td>2015</td>\n",
              "      <td>3</td>\n",
              "      <td>7</td>\n",
              "      <td>0</td>\n",
              "      <td>1</td>\n",
              "      <td>2015-03</td>\n",
              "      <td>2015-03</td>\n",
              "      <td>2015-03</td>\n",
              "      <td>03-01</td>\n",
              "    </tr>\n",
              "    <tr>\n",
              "      <th>97668</th>\n",
              "      <td>habrahabr.ru</td>\n",
              "      <td>2015-03-01 07:13:00</td>\n",
              "      <td>@semen_grinshtein</td>\n",
              "      <td>1883</td>\n",
              "      <td>12</td>\n",
              "      <td>4.0</td>\n",
              "      <td>2015</td>\n",
              "      <td>3</td>\n",
              "      <td>7</td>\n",
              "      <td>7</td>\n",
              "      <td>1</td>\n",
              "      <td>2015-03</td>\n",
              "      <td>2015-03</td>\n",
              "      <td>2015-03</td>\n",
              "      <td>03-01</td>\n",
              "    </tr>\n",
              "    <tr>\n",
              "      <th>97669</th>\n",
              "      <td>habrahabr.ru</td>\n",
              "      <td>2015-03-01 07:52:00</td>\n",
              "      <td>@Makeman</td>\n",
              "      <td>48658</td>\n",
              "      <td>6</td>\n",
              "      <td>4.0</td>\n",
              "      <td>2015</td>\n",
              "      <td>3</td>\n",
              "      <td>7</td>\n",
              "      <td>7</td>\n",
              "      <td>1</td>\n",
              "      <td>2015-03</td>\n",
              "      <td>2015-03</td>\n",
              "      <td>2015-03</td>\n",
              "      <td>03-01</td>\n",
              "    </tr>\n",
              "    <tr>\n",
              "      <th>97670</th>\n",
              "      <td>habrahabr.ru</td>\n",
              "      <td>2015-03-01 10:30:00</td>\n",
              "      <td>@Doomer3D</td>\n",
              "      <td>40374</td>\n",
              "      <td>4</td>\n",
              "      <td>1.0</td>\n",
              "      <td>2015</td>\n",
              "      <td>3</td>\n",
              "      <td>7</td>\n",
              "      <td>10</td>\n",
              "      <td>1</td>\n",
              "      <td>2015-03</td>\n",
              "      <td>2015-03</td>\n",
              "      <td>2015-03</td>\n",
              "      <td>03-01</td>\n",
              "    </tr>\n",
              "  </tbody>\n",
              "</table>\n",
              "</div>\n",
              "      <button class=\"colab-df-convert\" onclick=\"convertToInteractive('df-9fa614e4-5491-47c1-a737-a78ec63b2f9b')\"\n",
              "              title=\"Convert this dataframe to an interactive table.\"\n",
              "              style=\"display:none;\">\n",
              "        \n",
              "  <svg xmlns=\"http://www.w3.org/2000/svg\" height=\"24px\"viewBox=\"0 0 24 24\"\n",
              "       width=\"24px\">\n",
              "    <path d=\"M0 0h24v24H0V0z\" fill=\"none\"/>\n",
              "    <path d=\"M18.56 5.44l.94 2.06.94-2.06 2.06-.94-2.06-.94-.94-2.06-.94 2.06-2.06.94zm-11 1L8.5 8.5l.94-2.06 2.06-.94-2.06-.94L8.5 2.5l-.94 2.06-2.06.94zm10 10l.94 2.06.94-2.06 2.06-.94-2.06-.94-.94-2.06-.94 2.06-2.06.94z\"/><path d=\"M17.41 7.96l-1.37-1.37c-.4-.4-.92-.59-1.43-.59-.52 0-1.04.2-1.43.59L10.3 9.45l-7.72 7.72c-.78.78-.78 2.05 0 2.83L4 21.41c.39.39.9.59 1.41.59.51 0 1.02-.2 1.41-.59l7.78-7.78 2.81-2.81c.8-.78.8-2.07 0-2.86zM5.41 20L4 18.59l7.72-7.72 1.47 1.35L5.41 20z\"/>\n",
              "  </svg>\n",
              "      </button>\n",
              "      \n",
              "  <style>\n",
              "    .colab-df-container {\n",
              "      display:flex;\n",
              "      flex-wrap:wrap;\n",
              "      gap: 12px;\n",
              "    }\n",
              "\n",
              "    .colab-df-convert {\n",
              "      background-color: #E8F0FE;\n",
              "      border: none;\n",
              "      border-radius: 50%;\n",
              "      cursor: pointer;\n",
              "      display: none;\n",
              "      fill: #1967D2;\n",
              "      height: 32px;\n",
              "      padding: 0 0 0 0;\n",
              "      width: 32px;\n",
              "    }\n",
              "\n",
              "    .colab-df-convert:hover {\n",
              "      background-color: #E2EBFA;\n",
              "      box-shadow: 0px 1px 2px rgba(60, 64, 67, 0.3), 0px 1px 3px 1px rgba(60, 64, 67, 0.15);\n",
              "      fill: #174EA6;\n",
              "    }\n",
              "\n",
              "    [theme=dark] .colab-df-convert {\n",
              "      background-color: #3B4455;\n",
              "      fill: #D2E3FC;\n",
              "    }\n",
              "\n",
              "    [theme=dark] .colab-df-convert:hover {\n",
              "      background-color: #434B5C;\n",
              "      box-shadow: 0px 1px 3px 1px rgba(0, 0, 0, 0.15);\n",
              "      filter: drop-shadow(0px 1px 2px rgba(0, 0, 0, 0.3));\n",
              "      fill: #FFFFFF;\n",
              "    }\n",
              "  </style>\n",
              "\n",
              "      <script>\n",
              "        const buttonEl =\n",
              "          document.querySelector('#df-9fa614e4-5491-47c1-a737-a78ec63b2f9b button.colab-df-convert');\n",
              "        buttonEl.style.display =\n",
              "          google.colab.kernel.accessAllowed ? 'block' : 'none';\n",
              "\n",
              "        async function convertToInteractive(key) {\n",
              "          const element = document.querySelector('#df-9fa614e4-5491-47c1-a737-a78ec63b2f9b');\n",
              "          const dataTable =\n",
              "            await google.colab.kernel.invokeFunction('convertToInteractive',\n",
              "                                                     [key], {});\n",
              "          if (!dataTable) return;\n",
              "\n",
              "          const docLinkHtml = 'Like what you see? Visit the ' +\n",
              "            '<a target=\"_blank\" href=https://colab.research.google.com/notebooks/data_table.ipynb>data table notebook</a>'\n",
              "            + ' to learn more about interactive tables.';\n",
              "          element.innerHTML = '';\n",
              "          dataTable['output_type'] = 'display_data';\n",
              "          await google.colab.output.renderOutput(dataTable, element);\n",
              "          const docLink = document.createElement('div');\n",
              "          docLink.innerHTML = docLinkHtml;\n",
              "          element.appendChild(docLink);\n",
              "        }\n",
              "      </script>\n",
              "    </div>\n",
              "  </div>\n",
              "  "
            ],
            "text/plain": [
              "             domain           published  ... year_month  month_day\n",
              "97666  habrahabr.ru 2015-03-01 00:00:00  ...    2015-03      03-01\n",
              "97667  habrahabr.ru 2015-03-01 00:09:00  ...    2015-03      03-01\n",
              "97668  habrahabr.ru 2015-03-01 07:13:00  ...    2015-03      03-01\n",
              "97669  habrahabr.ru 2015-03-01 07:52:00  ...    2015-03      03-01\n",
              "97670  habrahabr.ru 2015-03-01 10:30:00  ...    2015-03      03-01\n",
              "\n",
              "[5 rows x 15 columns]"
            ]
          },
          "metadata": {},
          "execution_count": 179
        }
      ]
    },
    {
      "cell_type": "code",
      "source": [
        "fig = plt.figure(figsize=(20,20))\n",
        "sns.countplot(x = 'day', hue = 'domain', data = data);"
      ],
      "metadata": {
        "colab": {
          "base_uri": "https://localhost:8080/",
          "height": 1000
        },
        "id": "Yq0kUsiFpWI9",
        "outputId": "ab5f4110-e405-4bd5-8f51-395cd47df492"
      },
      "execution_count": null,
      "outputs": [
        {
          "output_type": "display_data",
          "data": {
            "image/png": "[encoded data removed]",
            "text/plain": [
              "<Figure size 1440x1440 with 1 Axes>"
            ]
          },
          "metadata": {
            "needs_background": "light"
          }
        }
      ]
    },
    {
      "cell_type": "code",
      "source": [
        "#fig = plt.figure(figsize=(10,10))\n",
        "sns.countplot(x = 'dayofweek', hue = 'domain', data = data);"
      ],
      "metadata": {
        "colab": {
          "base_uri": "https://localhost:8080/",
          "height": 298
        },
        "id": "u4Dm3Jjqppmi",
        "outputId": "6b2b537f-269a-4d1d-b025-6c78b015955a"
      },
      "execution_count": null,
      "outputs": [
        {
          "output_type": "display_data",
          "data": {
            "image/png": "[encoded data removed]",
            "text/plain": [
              "<Figure size 432x288 with 1 Axes>"
            ]
          },
          "metadata": {
            "needs_background": "light"
          }
        }
      ]
    },
    {
      "cell_type": "markdown",
      "source": [
        "#**3. Когда лучше всего публиковать статью?**\n",
        "\n",
        "1) Больше всего просмотров набирают статьи, опубликованные в 12 часов дня\n",
        "\n",
        "2) У опубликованных в 10 утра постов больше всего комментариев\n",
        "\n",
        "3) Больше всего просмотров набирают статьи, опубликованные в 6 часов утра\n",
        "\n",
        "4) Максимальное число комментариев на гиктаймсе набрала статья, опубликованная в 9 часов вечера\n",
        "\n",
        "5) На хабре дневные статьи комментируют чаще, чем вечерние"
      ],
      "metadata": {
        "id": "mZkbXmAoqd8Q"
      }
    },
    {
      "cell_type": "code",
      "source": [
        "df.head()"
      ],
      "metadata": {
        "colab": {
          "base_uri": "https://localhost:8080/",
          "height": 582
        },
        "id": "FcBCSNrLrHrZ",
        "outputId": "99c3beb1-cc95-433f-f169-a254d855a396"
      },
      "execution_count": null,
      "outputs": [
        {
          "output_type": "execute_result",
          "data": {
            "text/html": [
              "\n",
              "  <div id=\"df-758c666f-3c40-4111-9169-2862f7dfe117\">\n",
              "    <div class=\"colab-df-container\">\n",
              "      <div>\n",
              "<style scoped>\n",
              "    .dataframe tbody tr th:only-of-type {\n",
              "        vertical-align: middle;\n",
              "    }\n",
              "\n",
              "    .dataframe tbody tr th {\n",
              "        vertical-align: top;\n",
              "    }\n",
              "\n",
              "    .dataframe thead th {\n",
              "        text-align: right;\n",
              "    }\n",
              "</style>\n",
              "<table border=\"1\" class=\"dataframe\">\n",
              "  <thead>\n",
              "    <tr style=\"text-align: right;\">\n",
              "      <th></th>\n",
              "      <th>url</th>\n",
              "      <th>domain</th>\n",
              "      <th>post_id</th>\n",
              "      <th>published</th>\n",
              "      <th>author</th>\n",
              "      <th>flow</th>\n",
              "      <th>polling</th>\n",
              "      <th>content_len</th>\n",
              "      <th>title</th>\n",
              "      <th>comments</th>\n",
              "      <th>favs</th>\n",
              "      <th>views</th>\n",
              "      <th>votes_plus</th>\n",
              "      <th>votes_minus</th>\n",
              "      <th>year</th>\n",
              "      <th>month</th>\n",
              "      <th>dayofweek</th>\n",
              "      <th>hour</th>\n",
              "      <th>day</th>\n",
              "      <th>mon_yr</th>\n",
              "      <th>year-month</th>\n",
              "      <th>year_month</th>\n",
              "      <th>month_day</th>\n",
              "    </tr>\n",
              "  </thead>\n",
              "  <tbody>\n",
              "    <tr>\n",
              "      <th>0</th>\n",
              "      <td>https://habrahabr.ru/post/18284/</td>\n",
              "      <td>habrahabr.ru</td>\n",
              "      <td>18284</td>\n",
              "      <td>2008-01-01 18:19:00</td>\n",
              "      <td>@Tapac</td>\n",
              "      <td>develop</td>\n",
              "      <td>False</td>\n",
              "      <td>4305</td>\n",
              "      <td>Новогодний подарок блоггерам — WordPress 2.3.2</td>\n",
              "      <td>0</td>\n",
              "      <td>0</td>\n",
              "      <td>236</td>\n",
              "      <td>0.0</td>\n",
              "      <td>0.0</td>\n",
              "      <td>2008</td>\n",
              "      <td>1</td>\n",
              "      <td>2</td>\n",
              "      <td>18</td>\n",
              "      <td>1</td>\n",
              "      <td>2008-01</td>\n",
              "      <td>2008-01</td>\n",
              "      <td>2008-01</td>\n",
              "      <td>01-01</td>\n",
              "    </tr>\n",
              "    <tr>\n",
              "      <th>1</th>\n",
              "      <td>https://habrahabr.ru/post/18285/</td>\n",
              "      <td>habrahabr.ru</td>\n",
              "      <td>18285</td>\n",
              "      <td>2008-01-01 18:30:00</td>\n",
              "      <td>@DezmASter</td>\n",
              "      <td>design</td>\n",
              "      <td>False</td>\n",
              "      <td>7344</td>\n",
              "      <td>Сумасшедшие яйца, или сервис для отслеживания ...</td>\n",
              "      <td>1</td>\n",
              "      <td>1</td>\n",
              "      <td>353</td>\n",
              "      <td>1.0</td>\n",
              "      <td>0.0</td>\n",
              "      <td>2008</td>\n",
              "      <td>1</td>\n",
              "      <td>2</td>\n",
              "      <td>18</td>\n",
              "      <td>1</td>\n",
              "      <td>2008-01</td>\n",
              "      <td>2008-01</td>\n",
              "      <td>2008-01</td>\n",
              "      <td>01-01</td>\n",
              "    </tr>\n",
              "    <tr>\n",
              "      <th>2</th>\n",
              "      <td>https://habrahabr.ru/post/18286/</td>\n",
              "      <td>habrahabr.ru</td>\n",
              "      <td>18286</td>\n",
              "      <td>2008-01-01 18:34:00</td>\n",
              "      <td>@DezmASter</td>\n",
              "      <td>design</td>\n",
              "      <td>False</td>\n",
              "      <td>8431</td>\n",
              "      <td>Сумасшедшие яйца, или сервис для отслеживания ...</td>\n",
              "      <td>47</td>\n",
              "      <td>72</td>\n",
              "      <td>1200</td>\n",
              "      <td>45.0</td>\n",
              "      <td>5.0</td>\n",
              "      <td>2008</td>\n",
              "      <td>1</td>\n",
              "      <td>2</td>\n",
              "      <td>18</td>\n",
              "      <td>1</td>\n",
              "      <td>2008-01</td>\n",
              "      <td>2008-01</td>\n",
              "      <td>2008-01</td>\n",
              "      <td>01-01</td>\n",
              "    </tr>\n",
              "    <tr>\n",
              "      <th>3</th>\n",
              "      <td>https://habrahabr.ru/post/18291/</td>\n",
              "      <td>habrahabr.ru</td>\n",
              "      <td>18291</td>\n",
              "      <td>2008-01-02 01:32:00</td>\n",
              "      <td>@Taoorus</td>\n",
              "      <td>design</td>\n",
              "      <td>False</td>\n",
              "      <td>5662</td>\n",
              "      <td>Сглаживание шрифтов, и субпиксельная отрисовка</td>\n",
              "      <td>102</td>\n",
              "      <td>36</td>\n",
              "      <td>5700</td>\n",
              "      <td>72.0</td>\n",
              "      <td>3.0</td>\n",
              "      <td>2008</td>\n",
              "      <td>1</td>\n",
              "      <td>3</td>\n",
              "      <td>1</td>\n",
              "      <td>2</td>\n",
              "      <td>2008-01</td>\n",
              "      <td>2008-01</td>\n",
              "      <td>2008-01</td>\n",
              "      <td>01-02</td>\n",
              "    </tr>\n",
              "    <tr>\n",
              "      <th>4</th>\n",
              "      <td>https://geektimes.ru/post/18294/</td>\n",
              "      <td>geektimes.ru</td>\n",
              "      <td>18294</td>\n",
              "      <td>2008-01-02 14:34:00</td>\n",
              "      <td>@dennydo</td>\n",
              "      <td>NaN</td>\n",
              "      <td>False</td>\n",
              "      <td>3706</td>\n",
              "      <td>Почему мне не нравится iPhone</td>\n",
              "      <td>230</td>\n",
              "      <td>6</td>\n",
              "      <td>1400</td>\n",
              "      <td>73.0</td>\n",
              "      <td>15.0</td>\n",
              "      <td>2008</td>\n",
              "      <td>1</td>\n",
              "      <td>3</td>\n",
              "      <td>14</td>\n",
              "      <td>2</td>\n",
              "      <td>2008-01</td>\n",
              "      <td>2008-01</td>\n",
              "      <td>2008-01</td>\n",
              "      <td>01-02</td>\n",
              "    </tr>\n",
              "  </tbody>\n",
              "</table>\n",
              "</div>\n",
              "      <button class=\"colab-df-convert\" onclick=\"convertToInteractive('df-758c666f-3c40-4111-9169-2862f7dfe117')\"\n",
              "              title=\"Convert this dataframe to an interactive table.\"\n",
              "              style=\"display:none;\">\n",
              "        \n",
              "  <svg xmlns=\"http://www.w3.org/2000/svg\" height=\"24px\"viewBox=\"0 0 24 24\"\n",
              "       width=\"24px\">\n",
              "    <path d=\"M0 0h24v24H0V0z\" fill=\"none\"/>\n",
              "    <path d=\"M18.56 5.44l.94 2.06.94-2.06 2.06-.94-2.06-.94-.94-2.06-.94 2.06-2.06.94zm-11 1L8.5 8.5l.94-2.06 2.06-.94-2.06-.94L8.5 2.5l-.94 2.06-2.06.94zm10 10l.94 2.06.94-2.06 2.06-.94-2.06-.94-.94-2.06-.94 2.06-2.06.94z\"/><path d=\"M17.41 7.96l-1.37-1.37c-.4-.4-.92-.59-1.43-.59-.52 0-1.04.2-1.43.59L10.3 9.45l-7.72 7.72c-.78.78-.78 2.05 0 2.83L4 21.41c.39.39.9.59 1.41.59.51 0 1.02-.2 1.41-.59l7.78-7.78 2.81-2.81c.8-.78.8-2.07 0-2.86zM5.41 20L4 18.59l7.72-7.72 1.47 1.35L5.41 20z\"/>\n",
              "  </svg>\n",
              "      </button>\n",
              "      \n",
              "  <style>\n",
              "    .colab-df-container {\n",
              "      display:flex;\n",
              "      flex-wrap:wrap;\n",
              "      gap: 12px;\n",
              "    }\n",
              "\n",
              "    .colab-df-convert {\n",
              "      background-color: #E8F0FE;\n",
              "      border: none;\n",
              "      border-radius: 50%;\n",
              "      cursor: pointer;\n",
              "      display: none;\n",
              "      fill: #1967D2;\n",
              "      height: 32px;\n",
              "      padding: 0 0 0 0;\n",
              "      width: 32px;\n",
              "    }\n",
              "\n",
              "    .colab-df-convert:hover {\n",
              "      background-color: #E2EBFA;\n",
              "      box-shadow: 0px 1px 2px rgba(60, 64, 67, 0.3), 0px 1px 3px 1px rgba(60, 64, 67, 0.15);\n",
              "      fill: #174EA6;\n",
              "    }\n",
              "\n",
              "    [theme=dark] .colab-df-convert {\n",
              "      background-color: #3B4455;\n",
              "      fill: #D2E3FC;\n",
              "    }\n",
              "\n",
              "    [theme=dark] .colab-df-convert:hover {\n",
              "      background-color: #434B5C;\n",
              "      box-shadow: 0px 1px 3px 1px rgba(0, 0, 0, 0.15);\n",
              "      filter: drop-shadow(0px 1px 2px rgba(0, 0, 0, 0.3));\n",
              "      fill: #FFFFFF;\n",
              "    }\n",
              "  </style>\n",
              "\n",
              "      <script>\n",
              "        const buttonEl =\n",
              "          document.querySelector('#df-758c666f-3c40-4111-9169-2862f7dfe117 button.colab-df-convert');\n",
              "        buttonEl.style.display =\n",
              "          google.colab.kernel.accessAllowed ? 'block' : 'none';\n",
              "\n",
              "        async function convertToInteractive(key) {\n",
              "          const element = document.querySelector('#df-758c666f-3c40-4111-9169-2862f7dfe117');\n",
              "          const dataTable =\n",
              "            await google.colab.kernel.invokeFunction('convertToInteractive',\n",
              "                                                     [key], {});\n",
              "          if (!dataTable) return;\n",
              "\n",
              "          const docLinkHtml = 'Like what you see? Visit the ' +\n",
              "            '<a target=\"_blank\" href=https://colab.research.google.com/notebooks/data_table.ipynb>data table notebook</a>'\n",
              "            + ' to learn more about interactive tables.';\n",
              "          element.innerHTML = '';\n",
              "          dataTable['output_type'] = 'display_data';\n",
              "          await google.colab.output.renderOutput(dataTable, element);\n",
              "          const docLink = document.createElement('div');\n",
              "          docLink.innerHTML = docLinkHtml;\n",
              "          element.appendChild(docLink);\n",
              "        }\n",
              "      </script>\n",
              "    </div>\n",
              "  </div>\n",
              "  "
            ],
            "text/plain": [
              "                                url        domain  ...  year_month month_day\n",
              "0  https://habrahabr.ru/post/18284/  habrahabr.ru  ...     2008-01     01-01\n",
              "1  https://habrahabr.ru/post/18285/  habrahabr.ru  ...     2008-01     01-01\n",
              "2  https://habrahabr.ru/post/18286/  habrahabr.ru  ...     2008-01     01-01\n",
              "3  https://habrahabr.ru/post/18291/  habrahabr.ru  ...     2008-01     01-02\n",
              "4  https://geektimes.ru/post/18294/  geektimes.ru  ...     2008-01     01-02\n",
              "\n",
              "[5 rows x 23 columns]"
            ]
          },
          "metadata": {},
          "execution_count": 189
        }
      ]
    },
    {
      "cell_type": "code",
      "source": [
        "print(df.groupby('hour')['views'].mean().sort_values(ascending=False)[:10])"
      ],
      "metadata": {
        "colab": {
          "base_uri": "https://localhost:8080/"
        },
        "id": "lOV63SyorSF0",
        "outputId": "19f79bab-20ed-47b6-fb95-e6743b543725"
      },
      "execution_count": null,
      "outputs": [
        {
          "output_type": "stream",
          "name": "stdout",
          "text": [
            "hour\n",
            "6     21354.310115\n",
            "4     20678.389091\n",
            "7     19093.953408\n",
            "3     18370.017972\n",
            "22    18365.387460\n",
            "20    18134.614873\n",
            "1     17717.709114\n",
            "23    17631.345932\n",
            "21    17605.819064\n",
            "0     17546.982349\n",
            "Name: views, dtype: float64\n"
          ]
        }
      ]
    },
    {
      "cell_type": "code",
      "source": [
        "print(df.groupby('hour')['comments'].mean().sort_values(ascending=False)[:10])"
      ],
      "metadata": {
        "colab": {
          "base_uri": "https://localhost:8080/"
        },
        "id": "4j1aMTaTr4sz",
        "outputId": "f4d619b8-32cc-446c-ae31-7a31a981ea88"
      },
      "execution_count": null,
      "outputs": [
        {
          "output_type": "stream",
          "name": "stdout",
          "text": [
            "hour\n",
            "4     53.657273\n",
            "3     53.123877\n",
            "6     51.799618\n",
            "1     49.417910\n",
            "2     48.827025\n",
            "0     48.389066\n",
            "5     47.816686\n",
            "21    46.669970\n",
            "22    46.373220\n",
            "20    45.822556\n",
            "Name: comments, dtype: float64\n"
          ]
        }
      ]
    },
    {
      "cell_type": "code",
      "source": [
        "df.sort_values(by='comments', ascending=False)"
      ],
      "metadata": {
        "colab": {
          "base_uri": "https://localhost:8080/",
          "height": 1000
        },
        "id": "y-2WhPnLs1Ee",
        "outputId": "37193130-fdc5-49cc-c56f-6bd06ed7549a"
      },
      "execution_count": null,
      "outputs": [
        {
          "output_type": "execute_result",
          "data": {
            "text/html": [
              "\n",
              "  <div id=\"df-c71abb71-20ea-498c-9aa6-ac73da04b041\">\n",
              "    <div class=\"colab-df-container\">\n",
              "      <div>\n",
              "<style scoped>\n",
              "    .dataframe tbody tr th:only-of-type {\n",
              "        vertical-align: middle;\n",
              "    }\n",
              "\n",
              "    .dataframe tbody tr th {\n",
              "        vertical-align: top;\n",
              "    }\n",
              "\n",
              "    .dataframe thead th {\n",
              "        text-align: right;\n",
              "    }\n",
              "</style>\n",
              "<table border=\"1\" class=\"dataframe\">\n",
              "  <thead>\n",
              "    <tr style=\"text-align: right;\">\n",
              "      <th></th>\n",
              "      <th>url</th>\n",
              "      <th>domain</th>\n",
              "      <th>post_id</th>\n",
              "      <th>published</th>\n",
              "      <th>author</th>\n",
              "      <th>flow</th>\n",
              "      <th>polling</th>\n",
              "      <th>content_len</th>\n",
              "      <th>title</th>\n",
              "      <th>comments</th>\n",
              "      <th>favs</th>\n",
              "      <th>views</th>\n",
              "      <th>votes_plus</th>\n",
              "      <th>votes_minus</th>\n",
              "      <th>year</th>\n",
              "      <th>month</th>\n",
              "      <th>dayofweek</th>\n",
              "      <th>hour</th>\n",
              "      <th>day</th>\n",
              "      <th>mon_yr</th>\n",
              "      <th>year-month</th>\n",
              "      <th>year_month</th>\n",
              "      <th>month_day</th>\n",
              "    </tr>\n",
              "  </thead>\n",
              "  <tbody>\n",
              "    <tr>\n",
              "      <th>38763</th>\n",
              "      <td>https://geektimes.ru/post/123157/</td>\n",
              "      <td>geektimes.ru</td>\n",
              "      <td>123157</td>\n",
              "      <td>2011-07-01 02:35:00</td>\n",
              "      <td>@Dottore</td>\n",
              "      <td>NaN</td>\n",
              "      <td>False</td>\n",
              "      <td>2158</td>\n",
              "      <td>Как раздавать инвайты на Google+</td>\n",
              "      <td>2266</td>\n",
              "      <td>24</td>\n",
              "      <td>15300</td>\n",
              "      <td>226.0</td>\n",
              "      <td>55.0</td>\n",
              "      <td>2011</td>\n",
              "      <td>7</td>\n",
              "      <td>5</td>\n",
              "      <td>2</td>\n",
              "      <td>1</td>\n",
              "      <td>2011-07</td>\n",
              "      <td>2011-07</td>\n",
              "      <td>2011-07</td>\n",
              "      <td>07-01</td>\n",
              "    </tr>\n",
              "    <tr>\n",
              "      <th>5018</th>\n",
              "      <td>https://habrahabr.ru/company/tm/blog/39689/</td>\n",
              "      <td>habrahabr.ru</td>\n",
              "      <td>39689</td>\n",
              "      <td>2008-09-12 09:44:00</td>\n",
              "      <td>NaN</td>\n",
              "      <td>misc</td>\n",
              "      <td>False</td>\n",
              "      <td>17</td>\n",
              "      <td>Hello, world!</td>\n",
              "      <td>2194</td>\n",
              "      <td>16</td>\n",
              "      <td>9400</td>\n",
              "      <td>NaN</td>\n",
              "      <td>NaN</td>\n",
              "      <td>2008</td>\n",
              "      <td>9</td>\n",
              "      <td>5</td>\n",
              "      <td>9</td>\n",
              "      <td>12</td>\n",
              "      <td>2008-09</td>\n",
              "      <td>2008-09</td>\n",
              "      <td>2008-09</td>\n",
              "      <td>09-12</td>\n",
              "    </tr>\n",
              "    <tr>\n",
              "      <th>65285</th>\n",
              "      <td>https://geektimes.ru/post/171853/</td>\n",
              "      <td>geektimes.ru</td>\n",
              "      <td>171853</td>\n",
              "      <td>2013-03-06 20:07:00</td>\n",
              "      <td>@vadimus</td>\n",
              "      <td>NaN</td>\n",
              "      <td>False</td>\n",
              "      <td>2220</td>\n",
              "      <td>Лучшие компьютерные игры всех времен и народов...</td>\n",
              "      <td>1887</td>\n",
              "      <td>392</td>\n",
              "      <td>160000</td>\n",
              "      <td>170.0</td>\n",
              "      <td>29.0</td>\n",
              "      <td>2013</td>\n",
              "      <td>3</td>\n",
              "      <td>3</td>\n",
              "      <td>20</td>\n",
              "      <td>6</td>\n",
              "      <td>2013-03</td>\n",
              "      <td>2013-03</td>\n",
              "      <td>2013-03</td>\n",
              "      <td>03-06</td>\n",
              "    </tr>\n",
              "    <tr>\n",
              "      <th>38742</th>\n",
              "      <td>https://geektimes.ru/post/123122/</td>\n",
              "      <td>geektimes.ru</td>\n",
              "      <td>123122</td>\n",
              "      <td>2011-06-30 17:10:00</td>\n",
              "      <td>@MetallicAt</td>\n",
              "      <td>NaN</td>\n",
              "      <td>False</td>\n",
              "      <td>1390</td>\n",
              "      <td>Раздача слонов или инвайты на Google+</td>\n",
              "      <td>1829</td>\n",
              "      <td>17</td>\n",
              "      <td>1200</td>\n",
              "      <td>275.0</td>\n",
              "      <td>50.0</td>\n",
              "      <td>2011</td>\n",
              "      <td>6</td>\n",
              "      <td>4</td>\n",
              "      <td>17</td>\n",
              "      <td>30</td>\n",
              "      <td>2011-06</td>\n",
              "      <td>2011-06</td>\n",
              "      <td>2011-06</td>\n",
              "      <td>06-30</td>\n",
              "    </tr>\n",
              "    <tr>\n",
              "      <th>48453</th>\n",
              "      <td>https://habrahabr.ru/post/138291/</td>\n",
              "      <td>habrahabr.ru</td>\n",
              "      <td>138291</td>\n",
              "      <td>2012-02-16 01:04:00</td>\n",
              "      <td>@BannedMi</td>\n",
              "      <td>admin</td>\n",
              "      <td>False</td>\n",
              "      <td>3378</td>\n",
              "      <td>Ещё +2Гб для вашего DropBox аккаунта. На сей р...</td>\n",
              "      <td>1729</td>\n",
              "      <td>152</td>\n",
              "      <td>12100</td>\n",
              "      <td>285.0</td>\n",
              "      <td>54.0</td>\n",
              "      <td>2012</td>\n",
              "      <td>2</td>\n",
              "      <td>4</td>\n",
              "      <td>1</td>\n",
              "      <td>16</td>\n",
              "      <td>2012-02</td>\n",
              "      <td>2012-02</td>\n",
              "      <td>2012-02</td>\n",
              "      <td>02-16</td>\n",
              "    </tr>\n",
              "    <tr>\n",
              "      <th>...</th>\n",
              "      <td>...</td>\n",
              "      <td>...</td>\n",
              "      <td>...</td>\n",
              "      <td>...</td>\n",
              "      <td>...</td>\n",
              "      <td>...</td>\n",
              "      <td>...</td>\n",
              "      <td>...</td>\n",
              "      <td>...</td>\n",
              "      <td>...</td>\n",
              "      <td>...</td>\n",
              "      <td>...</td>\n",
              "      <td>...</td>\n",
              "      <td>...</td>\n",
              "      <td>...</td>\n",
              "      <td>...</td>\n",
              "      <td>...</td>\n",
              "      <td>...</td>\n",
              "      <td>...</td>\n",
              "      <td>...</td>\n",
              "      <td>...</td>\n",
              "      <td>...</td>\n",
              "      <td>...</td>\n",
              "    </tr>\n",
              "    <tr>\n",
              "      <th>81343</th>\n",
              "      <td>https://habrahabr.ru/company/infobox/blog/216563/</td>\n",
              "      <td>habrahabr.ru</td>\n",
              "      <td>216563</td>\n",
              "      <td>2014-03-21 00:11:00</td>\n",
              "      <td>NaN</td>\n",
              "      <td>develop</td>\n",
              "      <td>False</td>\n",
              "      <td>7621</td>\n",
              "      <td>Java 8 в IaaS InfoboxCloud в одну команду. Исп...</td>\n",
              "      <td>0</td>\n",
              "      <td>22</td>\n",
              "      <td>5100</td>\n",
              "      <td>15.0</td>\n",
              "      <td>4.0</td>\n",
              "      <td>2014</td>\n",
              "      <td>3</td>\n",
              "      <td>5</td>\n",
              "      <td>0</td>\n",
              "      <td>21</td>\n",
              "      <td>2014-03</td>\n",
              "      <td>2014-03</td>\n",
              "      <td>2014-03</td>\n",
              "      <td>03-21</td>\n",
              "    </tr>\n",
              "    <tr>\n",
              "      <th>81340</th>\n",
              "      <td>https://habrahabr.ru/company/likeastore/blog/2...</td>\n",
              "      <td>habrahabr.ru</td>\n",
              "      <td>216549</td>\n",
              "      <td>2014-03-20 20:20:00</td>\n",
              "      <td>NaN</td>\n",
              "      <td>misc</td>\n",
              "      <td>False</td>\n",
              "      <td>1756</td>\n",
              "      <td>Собираем лучшее в коллекции и делимся с другими</td>\n",
              "      <td>0</td>\n",
              "      <td>4</td>\n",
              "      <td>2200</td>\n",
              "      <td>5.0</td>\n",
              "      <td>0.0</td>\n",
              "      <td>2014</td>\n",
              "      <td>3</td>\n",
              "      <td>4</td>\n",
              "      <td>20</td>\n",
              "      <td>20</td>\n",
              "      <td>2014-03</td>\n",
              "      <td>2014-03</td>\n",
              "      <td>2014-03</td>\n",
              "      <td>03-20</td>\n",
              "    </tr>\n",
              "    <tr>\n",
              "      <th>81320</th>\n",
              "      <td>https://habrahabr.ru/company/Ciklum/blog/216497/</td>\n",
              "      <td>habrahabr.ru</td>\n",
              "      <td>216497</td>\n",
              "      <td>2014-03-20 14:14:00</td>\n",
              "      <td>NaN</td>\n",
              "      <td>misc</td>\n",
              "      <td>False</td>\n",
              "      <td>2136</td>\n",
              "      <td>Эволюция гибких фреймворков: Scrum-And в плани...</td>\n",
              "      <td>0</td>\n",
              "      <td>2</td>\n",
              "      <td>1900</td>\n",
              "      <td>2.0</td>\n",
              "      <td>1.0</td>\n",
              "      <td>2014</td>\n",
              "      <td>3</td>\n",
              "      <td>4</td>\n",
              "      <td>14</td>\n",
              "      <td>20</td>\n",
              "      <td>2014-03</td>\n",
              "      <td>2014-03</td>\n",
              "      <td>2014-03</td>\n",
              "      <td>03-20</td>\n",
              "    </tr>\n",
              "    <tr>\n",
              "      <th>81317</th>\n",
              "      <td>https://habrahabr.ru/post/216383/</td>\n",
              "      <td>habrahabr.ru</td>\n",
              "      <td>216383</td>\n",
              "      <td>2014-03-20 13:31:00</td>\n",
              "      <td>@KirillLevitskiy</td>\n",
              "      <td>management</td>\n",
              "      <td>False</td>\n",
              "      <td>8231</td>\n",
              "      <td>Как я сделал подсветку конкретных значений в т...</td>\n",
              "      <td>0</td>\n",
              "      <td>8</td>\n",
              "      <td>5200</td>\n",
              "      <td>6.0</td>\n",
              "      <td>1.0</td>\n",
              "      <td>2014</td>\n",
              "      <td>3</td>\n",
              "      <td>4</td>\n",
              "      <td>13</td>\n",
              "      <td>20</td>\n",
              "      <td>2014-03</td>\n",
              "      <td>2014-03</td>\n",
              "      <td>2014-03</td>\n",
              "      <td>03-20</td>\n",
              "    </tr>\n",
              "    <tr>\n",
              "      <th>0</th>\n",
              "      <td>https://habrahabr.ru/post/18284/</td>\n",
              "      <td>habrahabr.ru</td>\n",
              "      <td>18284</td>\n",
              "      <td>2008-01-01 18:19:00</td>\n",
              "      <td>@Tapac</td>\n",
              "      <td>develop</td>\n",
              "      <td>False</td>\n",
              "      <td>4305</td>\n",
              "      <td>Новогодний подарок блоггерам — WordPress 2.3.2</td>\n",
              "      <td>0</td>\n",
              "      <td>0</td>\n",
              "      <td>236</td>\n",
              "      <td>0.0</td>\n",
              "      <td>0.0</td>\n",
              "      <td>2008</td>\n",
              "      <td>1</td>\n",
              "      <td>2</td>\n",
              "      <td>18</td>\n",
              "      <td>1</td>\n",
              "      <td>2008-01</td>\n",
              "      <td>2008-01</td>\n",
              "      <td>2008-01</td>\n",
              "      <td>01-01</td>\n",
              "    </tr>\n",
              "  </tbody>\n",
              "</table>\n",
              "<p>134137 rows × 23 columns</p>\n",
              "</div>\n",
              "      <button class=\"colab-df-convert\" onclick=\"convertToInteractive('df-c71abb71-20ea-498c-9aa6-ac73da04b041')\"\n",
              "              title=\"Convert this dataframe to an interactive table.\"\n",
              "              style=\"display:none;\">\n",
              "        \n",
              "  <svg xmlns=\"http://www.w3.org/2000/svg\" height=\"24px\"viewBox=\"0 0 24 24\"\n",
              "       width=\"24px\">\n",
              "    <path d=\"M0 0h24v24H0V0z\" fill=\"none\"/>\n",
              "    <path d=\"M18.56 5.44l.94 2.06.94-2.06 2.06-.94-2.06-.94-.94-2.06-.94 2.06-2.06.94zm-11 1L8.5 8.5l.94-2.06 2.06-.94-2.06-.94L8.5 2.5l-.94 2.06-2.06.94zm10 10l.94 2.06.94-2.06 2.06-.94-2.06-.94-.94-2.06-.94 2.06-2.06.94z\"/><path d=\"M17.41 7.96l-1.37-1.37c-.4-.4-.92-.59-1.43-.59-.52 0-1.04.2-1.43.59L10.3 9.45l-7.72 7.72c-.78.78-.78 2.05 0 2.83L4 21.41c.39.39.9.59 1.41.59.51 0 1.02-.2 1.41-.59l7.78-7.78 2.81-2.81c.8-.78.8-2.07 0-2.86zM5.41 20L4 18.59l7.72-7.72 1.47 1.35L5.41 20z\"/>\n",
              "  </svg>\n",
              "      </button>\n",
              "      \n",
              "  <style>\n",
              "    .colab-df-container {\n",
              "      display:flex;\n",
              "      flex-wrap:wrap;\n",
              "      gap: 12px;\n",
              "    }\n",
              "\n",
              "    .colab-df-convert {\n",
              "      background-color: #E8F0FE;\n",
              "      border: none;\n",
              "      border-radius: 50%;\n",
              "      cursor: pointer;\n",
              "      display: none;\n",
              "      fill: #1967D2;\n",
              "      height: 32px;\n",
              "      padding: 0 0 0 0;\n",
              "      width: 32px;\n",
              "    }\n",
              "\n",
              "    .colab-df-convert:hover {\n",
              "      background-color: #E2EBFA;\n",
              "      box-shadow: 0px 1px 2px rgba(60, 64, 67, 0.3), 0px 1px 3px 1px rgba(60, 64, 67, 0.15);\n",
              "      fill: #174EA6;\n",
              "    }\n",
              "\n",
              "    [theme=dark] .colab-df-convert {\n",
              "      background-color: #3B4455;\n",
              "      fill: #D2E3FC;\n",
              "    }\n",
              "\n",
              "    [theme=dark] .colab-df-convert:hover {\n",
              "      background-color: #434B5C;\n",
              "      box-shadow: 0px 1px 3px 1px rgba(0, 0, 0, 0.15);\n",
              "      filter: drop-shadow(0px 1px 2px rgba(0, 0, 0, 0.3));\n",
              "      fill: #FFFFFF;\n",
              "    }\n",
              "  </style>\n",
              "\n",
              "      <script>\n",
              "        const buttonEl =\n",
              "          document.querySelector('#df-c71abb71-20ea-498c-9aa6-ac73da04b041 button.colab-df-convert');\n",
              "        buttonEl.style.display =\n",
              "          google.colab.kernel.accessAllowed ? 'block' : 'none';\n",
              "\n",
              "        async function convertToInteractive(key) {\n",
              "          const element = document.querySelector('#df-c71abb71-20ea-498c-9aa6-ac73da04b041');\n",
              "          const dataTable =\n",
              "            await google.colab.kernel.invokeFunction('convertToInteractive',\n",
              "                                                     [key], {});\n",
              "          if (!dataTable) return;\n",
              "\n",
              "          const docLinkHtml = 'Like what you see? Visit the ' +\n",
              "            '<a target=\"_blank\" href=https://colab.research.google.com/notebooks/data_table.ipynb>data table notebook</a>'\n",
              "            + ' to learn more about interactive tables.';\n",
              "          element.innerHTML = '';\n",
              "          dataTable['output_type'] = 'display_data';\n",
              "          await google.colab.output.renderOutput(dataTable, element);\n",
              "          const docLink = document.createElement('div');\n",
              "          docLink.innerHTML = docLinkHtml;\n",
              "          element.appendChild(docLink);\n",
              "        }\n",
              "      </script>\n",
              "    </div>\n",
              "  </div>\n",
              "  "
            ],
            "text/plain": [
              "                                                     url  ... month_day\n",
              "38763                  https://geektimes.ru/post/123157/  ...     07-01\n",
              "5018         https://habrahabr.ru/company/tm/blog/39689/  ...     09-12\n",
              "65285                  https://geektimes.ru/post/171853/  ...     03-06\n",
              "38742                  https://geektimes.ru/post/123122/  ...     06-30\n",
              "48453                  https://habrahabr.ru/post/138291/  ...     02-16\n",
              "...                                                  ...  ...       ...\n",
              "81343  https://habrahabr.ru/company/infobox/blog/216563/  ...     03-21\n",
              "81340  https://habrahabr.ru/company/likeastore/blog/2...  ...     03-20\n",
              "81320   https://habrahabr.ru/company/Ciklum/blog/216497/  ...     03-20\n",
              "81317                  https://habrahabr.ru/post/216383/  ...     03-20\n",
              "0                       https://habrahabr.ru/post/18284/  ...     01-01\n",
              "\n",
              "[134137 rows x 23 columns]"
            ]
          },
          "metadata": {},
          "execution_count": 200
        }
      ]
    },
    {
      "cell_type": "code",
      "source": [
        "comments = df[df.domain == 'habrahabr.ru'].groupby('hour')[['comments']].mean()[\"comments\"]\n",
        "print(list(comments))\n",
        "hour = list(range(24)) \n",
        "print(hour)\n",
        "\n",
        "fig = plt.figure()\n",
        "plt.bar(hour, comments)\n",
        "plt.grid(True)\n",
        "plt.show()"
      ],
      "metadata": {
        "colab": {
          "base_uri": "https://localhost:8080/",
          "height": 330
        },
        "id": "cCvr8c4Z3wpi",
        "outputId": "06608494-f02d-4fbd-faa8-66dce3644b5e"
      },
      "execution_count": null,
      "outputs": [
        {
          "output_type": "stream",
          "name": "stdout",
          "text": [
            "[44.037267080745345, 45.10339875538535, 44.95974025974026, 47.07741935483871, 49.458930899608866, 44.87765089722675, 45.24029850746269, 39.651928504233304, 33.11909871244635, 33.39934533551555, 30.089079013588325, 30.183618117710875, 30.585102511221642, 31.688633839318772, 31.833743045672144, 32.24425887265136, 33.732798165137616, 34.805608667941364, 35.59286638329329, 37.205821682328676, 41.0547052154195, 40.17856, 40.94170984455958, 38.94506906521041]\n",
            "[0, 1, 2, 3, 4, 5, 6, 7, 8, 9, 10, 11, 12, 13, 14, 15, 16, 17, 18, 19, 20, 21, 22, 23]\n"
          ]
        },
        {
          "output_type": "display_data",
          "data": {
            "image/png": "[encoded data removed]",
            "text/plain": [
              "<Figure size 432x288 with 1 Axes>"
            ]
          },
          "metadata": {
            "needs_background": "light"
          }
        }
      ]
    },
    {
      "cell_type": "code",
      "source": [
        "comments = df[df.domain == 'habrahabr.ru'].groupby('hour')[['comments']].mean()[\"comments\"]\n",
        "print(list(comments))\n",
        "hour = list(range(24)) \n",
        "print(hour)\n",
        "\n",
        "plt.figure(figsize=(10,10))\n",
        "plt.barh(hour,comments)\n",
        "plt.show()"
      ],
      "metadata": {
        "colab": {
          "base_uri": "https://localhost:8080/",
          "height": 657
        },
        "id": "pbGYdHpy4XAQ",
        "outputId": "4e013cea-6cd3-460f-87f8-6f30fa1653fa"
      },
      "execution_count": null,
      "outputs": [
        {
          "output_type": "stream",
          "name": "stdout",
          "text": [
            "[44.037267080745345, 45.10339875538535, 44.95974025974026, 47.07741935483871, 49.458930899608866, 44.87765089722675, 45.24029850746269, 39.651928504233304, 33.11909871244635, 33.39934533551555, 30.089079013588325, 30.183618117710875, 30.585102511221642, 31.688633839318772, 31.833743045672144, 32.24425887265136, 33.732798165137616, 34.805608667941364, 35.59286638329329, 37.205821682328676, 41.0547052154195, 40.17856, 40.94170984455958, 38.94506906521041]\n",
            "[0, 1, 2, 3, 4, 5, 6, 7, 8, 9, 10, 11, 12, 13, 14, 15, 16, 17, 18, 19, 20, 21, 22, 23]\n"
          ]
        },
        {
          "output_type": "display_data",
          "data": {
            "image/png": "[encoded data removed]",
            "text/plain": [
              "<Figure size 720x720 with 1 Axes>"
            ]
          },
          "metadata": {
            "needs_background": "light"
          }
        }
      ]
    },
    {
      "cell_type": "code",
      "source": [
        "comments = df[df.domain == 'habrahabr.ru'].groupby('hour')[['comments']].mean()[\"comments\"]\n",
        "print(list(comments))\n",
        "hour = list(range(24)) \n",
        "print(hour)\n",
        "#print(list(hour))\n",
        "#df[df.domain == 'habrahabr.ru'].groupby('hour')[['comments']].mean()"
      ],
      "metadata": {
        "colab": {
          "base_uri": "https://localhost:8080/"
        },
        "id": "_kYIXqniy6wE",
        "outputId": "a395fa84-0b60-4675-85ac-0a8c73cb0d6f"
      },
      "execution_count": null,
      "outputs": [
        {
          "output_type": "stream",
          "name": "stdout",
          "text": [
            "[44.037267080745345, 45.10339875538535, 44.95974025974026, 47.07741935483871, 49.458930899608866, 44.87765089722675, 45.24029850746269, 39.651928504233304, 33.11909871244635, 33.39934533551555, 30.089079013588325, 30.183618117710875, 30.585102511221642, 31.688633839318772, 31.833743045672144, 32.24425887265136, 33.732798165137616, 34.805608667941364, 35.59286638329329, 37.205821682328676, 41.0547052154195, 40.17856, 40.94170984455958, 38.94506906521041]\n",
            "[0, 1, 2, 3, 4, 5, 6, 7, 8, 9, 10, 11, 12, 13, 14, 15, 16, 17, 18, 19, 20, 21, 22, 23]\n"
          ]
        }
      ]
    },
    {
      "cell_type": "code",
      "source": [
        "df[df.domain == 'habrahabr.ru'].groupby('hour')[['comments']].mean().plot()"
      ],
      "metadata": {
        "colab": {
          "base_uri": "https://localhost:8080/",
          "height": 318
        },
        "id": "wI25IaK2w8C6",
        "outputId": "1cb4931c-3825-424d-8e7e-ca72d7dfd116"
      },
      "execution_count": null,
      "outputs": [
        {
          "output_type": "execute_result",
          "data": {
            "text/plain": [
              "<matplotlib.axes._subplots.AxesSubplot at 0x7ffb079e0790>"
            ]
          },
          "metadata": {},
          "execution_count": 211
        },
        {
          "output_type": "display_data",
          "data": {
            "image/png": "[encoded data removed]",
            "text/plain": [
              "<Figure size 432x288 with 1 Axes>"
            ]
          },
          "metadata": {
            "needs_background": "light"
          }
        }
      ]
    },
    {
      "cell_type": "markdown",
      "source": [
        "# **4. Кого из топ-20 авторов чаще всего минусуют?**\n",
        "@Mordatyj\n",
        "@Mithgol\n",
        "@alizar\n",
        "@ilya42"
      ],
      "metadata": {
        "id": "7Uwb7ElixBUY"
      }
    },
    {
      "cell_type": "code",
      "source": [
        "top = ['@Mordatyj','@Mithgol', '@alizar', '@ilya42']\n",
        "df[df.author.isin(top)].groupby('author')[['votes_minus']].count().sort_values('votes_minus')"
      ],
      "metadata": {
        "colab": {
          "base_uri": "https://localhost:8080/",
          "height": 206
        },
        "id": "U82v_YlkxWhC",
        "outputId": "0fb415a6-241e-4fd7-93e4-de11b0dd978c"
      },
      "execution_count": null,
      "outputs": [
        {
          "output_type": "execute_result",
          "data": {
            "text/html": [
              "\n",
              "  <div id=\"df-8a4b6c70-e3cc-4176-ba28-8b7bc59ac21b\">\n",
              "    <div class=\"colab-df-container\">\n",
              "      <div>\n",
              "<style scoped>\n",
              "    .dataframe tbody tr th:only-of-type {\n",
              "        vertical-align: middle;\n",
              "    }\n",
              "\n",
              "    .dataframe tbody tr th {\n",
              "        vertical-align: top;\n",
              "    }\n",
              "\n",
              "    .dataframe thead th {\n",
              "        text-align: right;\n",
              "    }\n",
              "</style>\n",
              "<table border=\"1\" class=\"dataframe\">\n",
              "  <thead>\n",
              "    <tr style=\"text-align: right;\">\n",
              "      <th></th>\n",
              "      <th>votes_minus</th>\n",
              "    </tr>\n",
              "    <tr>\n",
              "      <th>author</th>\n",
              "      <th></th>\n",
              "    </tr>\n",
              "  </thead>\n",
              "  <tbody>\n",
              "    <tr>\n",
              "      <th>@ilya42</th>\n",
              "      <td>512</td>\n",
              "    </tr>\n",
              "    <tr>\n",
              "      <th>@Mordatyj</th>\n",
              "      <td>543</td>\n",
              "    </tr>\n",
              "    <tr>\n",
              "      <th>@Mithgol</th>\n",
              "      <td>555</td>\n",
              "    </tr>\n",
              "    <tr>\n",
              "      <th>@alizar</th>\n",
              "      <td>5264</td>\n",
              "    </tr>\n",
              "  </tbody>\n",
              "</table>\n",
              "</div>\n",
              "      <button class=\"colab-df-convert\" onclick=\"convertToInteractive('df-8a4b6c70-e3cc-4176-ba28-8b7bc59ac21b')\"\n",
              "              title=\"Convert this dataframe to an interactive table.\"\n",
              "              style=\"display:none;\">\n",
              "        \n",
              "  <svg xmlns=\"http://www.w3.org/2000/svg\" height=\"24px\"viewBox=\"0 0 24 24\"\n",
              "       width=\"24px\">\n",
              "    <path d=\"M0 0h24v24H0V0z\" fill=\"none\"/>\n",
              "    <path d=\"M18.56 5.44l.94 2.06.94-2.06 2.06-.94-2.06-.94-.94-2.06-.94 2.06-2.06.94zm-11 1L8.5 8.5l.94-2.06 2.06-.94-2.06-.94L8.5 2.5l-.94 2.06-2.06.94zm10 10l.94 2.06.94-2.06 2.06-.94-2.06-.94-.94-2.06-.94 2.06-2.06.94z\"/><path d=\"M17.41 7.96l-1.37-1.37c-.4-.4-.92-.59-1.43-.59-.52 0-1.04.2-1.43.59L10.3 9.45l-7.72 7.72c-.78.78-.78 2.05 0 2.83L4 21.41c.39.39.9.59 1.41.59.51 0 1.02-.2 1.41-.59l7.78-7.78 2.81-2.81c.8-.78.8-2.07 0-2.86zM5.41 20L4 18.59l7.72-7.72 1.47 1.35L5.41 20z\"/>\n",
              "  </svg>\n",
              "      </button>\n",
              "      \n",
              "  <style>\n",
              "    .colab-df-container {\n",
              "      display:flex;\n",
              "      flex-wrap:wrap;\n",
              "      gap: 12px;\n",
              "    }\n",
              "\n",
              "    .colab-df-convert {\n",
              "      background-color: #E8F0FE;\n",
              "      border: none;\n",
              "      border-radius: 50%;\n",
              "      cursor: pointer;\n",
              "      display: none;\n",
              "      fill: #1967D2;\n",
              "      height: 32px;\n",
              "      padding: 0 0 0 0;\n",
              "      width: 32px;\n",
              "    }\n",
              "\n",
              "    .colab-df-convert:hover {\n",
              "      background-color: #E2EBFA;\n",
              "      box-shadow: 0px 1px 2px rgba(60, 64, 67, 0.3), 0px 1px 3px 1px rgba(60, 64, 67, 0.15);\n",
              "      fill: #174EA6;\n",
              "    }\n",
              "\n",
              "    [theme=dark] .colab-df-convert {\n",
              "      background-color: #3B4455;\n",
              "      fill: #D2E3FC;\n",
              "    }\n",
              "\n",
              "    [theme=dark] .colab-df-convert:hover {\n",
              "      background-color: #434B5C;\n",
              "      box-shadow: 0px 1px 3px 1px rgba(0, 0, 0, 0.15);\n",
              "      filter: drop-shadow(0px 1px 2px rgba(0, 0, 0, 0.3));\n",
              "      fill: #FFFFFF;\n",
              "    }\n",
              "  </style>\n",
              "\n",
              "      <script>\n",
              "        const buttonEl =\n",
              "          document.querySelector('#df-8a4b6c70-e3cc-4176-ba28-8b7bc59ac21b button.colab-df-convert');\n",
              "        buttonEl.style.display =\n",
              "          google.colab.kernel.accessAllowed ? 'block' : 'none';\n",
              "\n",
              "        async function convertToInteractive(key) {\n",
              "          const element = document.querySelector('#df-8a4b6c70-e3cc-4176-ba28-8b7bc59ac21b');\n",
              "          const dataTable =\n",
              "            await google.colab.kernel.invokeFunction('convertToInteractive',\n",
              "                                                     [key], {});\n",
              "          if (!dataTable) return;\n",
              "\n",
              "          const docLinkHtml = 'Like what you see? Visit the ' +\n",
              "            '<a target=\"_blank\" href=https://colab.research.google.com/notebooks/data_table.ipynb>data table notebook</a>'\n",
              "            + ' to learn more about interactive tables.';\n",
              "          element.innerHTML = '';\n",
              "          dataTable['output_type'] = 'display_data';\n",
              "          await google.colab.output.renderOutput(dataTable, element);\n",
              "          const docLink = document.createElement('div');\n",
              "          docLink.innerHTML = docLinkHtml;\n",
              "          element.appendChild(docLink);\n",
              "        }\n",
              "      </script>\n",
              "    </div>\n",
              "  </div>\n",
              "  "
            ],
            "text/plain": [
              "           votes_minus\n",
              "author                \n",
              "@ilya42            512\n",
              "@Mordatyj          543\n",
              "@Mithgol           555\n",
              "@alizar           5264"
            ]
          },
          "metadata": {},
          "execution_count": 177
        }
      ]
    },
    {
      "cell_type": "code",
      "source": [
        "df[df.author.isin(top)].groupby('author')[['votes_minus']].mean().sort_values('votes_minus')"
      ],
      "metadata": {
        "colab": {
          "base_uri": "https://localhost:8080/",
          "height": 206
        },
        "id": "uw_62D9dzbh9",
        "outputId": "e17b7805-011b-45eb-c5a5-fb33ca1ae2a4"
      },
      "execution_count": null,
      "outputs": [
        {
          "output_type": "execute_result",
          "data": {
            "text/html": [
              "\n",
              "  <div id=\"df-8ad60a5b-7ae1-41c3-a40e-8a7d9e5903f3\">\n",
              "    <div class=\"colab-df-container\">\n",
              "      <div>\n",
              "<style scoped>\n",
              "    .dataframe tbody tr th:only-of-type {\n",
              "        vertical-align: middle;\n",
              "    }\n",
              "\n",
              "    .dataframe tbody tr th {\n",
              "        vertical-align: top;\n",
              "    }\n",
              "\n",
              "    .dataframe thead th {\n",
              "        text-align: right;\n",
              "    }\n",
              "</style>\n",
              "<table border=\"1\" class=\"dataframe\">\n",
              "  <thead>\n",
              "    <tr style=\"text-align: right;\">\n",
              "      <th></th>\n",
              "      <th>votes_minus</th>\n",
              "    </tr>\n",
              "    <tr>\n",
              "      <th>author</th>\n",
              "      <th></th>\n",
              "    </tr>\n",
              "  </thead>\n",
              "  <tbody>\n",
              "    <tr>\n",
              "      <th>@ilya42</th>\n",
              "      <td>6.216797</td>\n",
              "    </tr>\n",
              "    <tr>\n",
              "      <th>@Mordatyj</th>\n",
              "      <td>7.471455</td>\n",
              "    </tr>\n",
              "    <tr>\n",
              "      <th>@alizar</th>\n",
              "      <td>7.928191</td>\n",
              "    </tr>\n",
              "    <tr>\n",
              "      <th>@Mithgol</th>\n",
              "      <td>20.481081</td>\n",
              "    </tr>\n",
              "  </tbody>\n",
              "</table>\n",
              "</div>\n",
              "      <button class=\"colab-df-convert\" onclick=\"convertToInteractive('df-8ad60a5b-7ae1-41c3-a40e-8a7d9e5903f3')\"\n",
              "              title=\"Convert this dataframe to an interactive table.\"\n",
              "              style=\"display:none;\">\n",
              "        \n",
              "  <svg xmlns=\"http://www.w3.org/2000/svg\" height=\"24px\"viewBox=\"0 0 24 24\"\n",
              "       width=\"24px\">\n",
              "    <path d=\"M0 0h24v24H0V0z\" fill=\"none\"/>\n",
              "    <path d=\"M18.56 5.44l.94 2.06.94-2.06 2.06-.94-2.06-.94-.94-2.06-.94 2.06-2.06.94zm-11 1L8.5 8.5l.94-2.06 2.06-.94-2.06-.94L8.5 2.5l-.94 2.06-2.06.94zm10 10l.94 2.06.94-2.06 2.06-.94-2.06-.94-.94-2.06-.94 2.06-2.06.94z\"/><path d=\"M17.41 7.96l-1.37-1.37c-.4-.4-.92-.59-1.43-.59-.52 0-1.04.2-1.43.59L10.3 9.45l-7.72 7.72c-.78.78-.78 2.05 0 2.83L4 21.41c.39.39.9.59 1.41.59.51 0 1.02-.2 1.41-.59l7.78-7.78 2.81-2.81c.8-.78.8-2.07 0-2.86zM5.41 20L4 18.59l7.72-7.72 1.47 1.35L5.41 20z\"/>\n",
              "  </svg>\n",
              "      </button>\n",
              "      \n",
              "  <style>\n",
              "    .colab-df-container {\n",
              "      display:flex;\n",
              "      flex-wrap:wrap;\n",
              "      gap: 12px;\n",
              "    }\n",
              "\n",
              "    .colab-df-convert {\n",
              "      background-color: #E8F0FE;\n",
              "      border: none;\n",
              "      border-radius: 50%;\n",
              "      cursor: pointer;\n",
              "      display: none;\n",
              "      fill: #1967D2;\n",
              "      height: 32px;\n",
              "      padding: 0 0 0 0;\n",
              "      width: 32px;\n",
              "    }\n",
              "\n",
              "    .colab-df-convert:hover {\n",
              "      background-color: #E2EBFA;\n",
              "      box-shadow: 0px 1px 2px rgba(60, 64, 67, 0.3), 0px 1px 3px 1px rgba(60, 64, 67, 0.15);\n",
              "      fill: #174EA6;\n",
              "    }\n",
              "\n",
              "    [theme=dark] .colab-df-convert {\n",
              "      background-color: #3B4455;\n",
              "      fill: #D2E3FC;\n",
              "    }\n",
              "\n",
              "    [theme=dark] .colab-df-convert:hover {\n",
              "      background-color: #434B5C;\n",
              "      box-shadow: 0px 1px 3px 1px rgba(0, 0, 0, 0.15);\n",
              "      filter: drop-shadow(0px 1px 2px rgba(0, 0, 0, 0.3));\n",
              "      fill: #FFFFFF;\n",
              "    }\n",
              "  </style>\n",
              "\n",
              "      <script>\n",
              "        const buttonEl =\n",
              "          document.querySelector('#df-8ad60a5b-7ae1-41c3-a40e-8a7d9e5903f3 button.colab-df-convert');\n",
              "        buttonEl.style.display =\n",
              "          google.colab.kernel.accessAllowed ? 'block' : 'none';\n",
              "\n",
              "        async function convertToInteractive(key) {\n",
              "          const element = document.querySelector('#df-8ad60a5b-7ae1-41c3-a40e-8a7d9e5903f3');\n",
              "          const dataTable =\n",
              "            await google.colab.kernel.invokeFunction('convertToInteractive',\n",
              "                                                     [key], {});\n",
              "          if (!dataTable) return;\n",
              "\n",
              "          const docLinkHtml = 'Like what you see? Visit the ' +\n",
              "            '<a target=\"_blank\" href=https://colab.research.google.com/notebooks/data_table.ipynb>data table notebook</a>'\n",
              "            + ' to learn more about interactive tables.';\n",
              "          element.innerHTML = '';\n",
              "          dataTable['output_type'] = 'display_data';\n",
              "          await google.colab.output.renderOutput(dataTable, element);\n",
              "          const docLink = document.createElement('div');\n",
              "          docLink.innerHTML = docLinkHtml;\n",
              "          element.appendChild(docLink);\n",
              "        }\n",
              "      </script>\n",
              "    </div>\n",
              "  </div>\n",
              "  "
            ],
            "text/plain": [
              "           votes_minus\n",
              "author                \n",
              "@ilya42       6.216797\n",
              "@Mordatyj     7.471455\n",
              "@alizar       7.928191\n",
              "@Mithgol     20.481081"
            ]
          },
          "metadata": {},
          "execution_count": 178
        }
      ]
    },
    {
      "cell_type": "code",
      "source": [
        ""
      ],
      "metadata": {
        "id": "eAqG-yain39K"
      },
      "execution_count": null,
      "outputs": []
    },
    {
      "cell_type": "markdown",
      "source": [
        "# **5. Сравните субботы и понедельники**\n",
        "Правда ли, что по субботам авторы пишут в основном днём, а по понедельникам — в основном вечером?"
      ],
      "metadata": {
        "id": "Vkyn2FJCttIL"
      }
    },
    {
      "cell_type": "code",
      "source": [
        "data = df[df.dayofweek.isin([1, 6])]\n",
        "fig = plt.figure(figsize=(10,10))\n",
        "sns.countplot(x = 'hour', hue = 'dayofweek', data = data);"
      ],
      "metadata": {
        "colab": {
          "base_uri": "https://localhost:8080/",
          "height": 624
        },
        "id": "oZw6EOKmtz7X",
        "outputId": "6086a19d-008c-41e4-cd9d-87788e825bf5"
      },
      "execution_count": null,
      "outputs": [
        {
          "output_type": "display_data",
          "data": {
            "image/png": "[encoded data removed]",
            "text/plain": [
              "<Figure size 720x720 with 1 Axes>"
            ]
          },
          "metadata": {
            "needs_background": "light"
          }
        }
      ]
    },
    {
      "cell_type": "code",
      "source": [
        ""
      ],
      "metadata": {
        "id": "1-cGjznMvOi1"
      },
      "execution_count": null,
      "outputs": []
    }
  ]
}